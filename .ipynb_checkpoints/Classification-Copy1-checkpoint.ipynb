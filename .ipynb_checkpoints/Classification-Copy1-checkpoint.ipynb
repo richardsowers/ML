{
 "cells": [
  {
   "cell_type": "markdown",
   "metadata": {},
   "source": [
    "## Logistic Regression ##\n",
    "Richard Sowers 2018-05-16\n",
    "\n",
    "Copyright 2018 University of Illinois Board of Trustees. All Rights Reserved. Licensed under the MIT license"
   ]
  },
  {
   "cell_type": "code",
   "execution_count": 1,
   "metadata": {
    "collapsed": true
   },
   "outputs": [],
   "source": [
    "import numpy\n",
    "%matplotlib inline\n",
    "#%matplotlib notebook\n",
    "import matplotlib.pyplot as plt\n",
    "import scipy.optimize"
   ]
  },
  {
   "cell_type": "code",
   "execution_count": 2,
   "metadata": {
    "collapsed": true
   },
   "outputs": [],
   "source": [
    "numpy.random.seed(0)\n",
    "N=500\n",
    "threshold=0.3"
   ]
  },
  {
   "cell_type": "code",
   "execution_count": 3,
   "metadata": {},
   "outputs": [
    {
     "name": "stdout",
     "output_type": "stream",
     "text": [
      "[(1.764052345967664, 1), (0.4001572083672233, 1), (0.9787379841057392, 1), (2.240893199201458, 1), (1.8675579901499675, 1), (-0.977277879876411, 0), (0.9500884175255894, 1), (-0.1513572082976979, 0), (-0.10321885179355784, 0), (0.41059850193837233, 1)]\n"
     ]
    }
   ],
   "source": [
    "xvals=numpy.random.normal(size=N)\n",
    "yvals=[(1 if x>threshold else 0) for x in xvals]\n",
    "data=[(x,y) for (x,y) in zip(xvals,yvals)]\n",
    "print(data[:10])"
   ]
  },
  {
   "cell_type": "code",
   "execution_count": 4,
   "metadata": {},
   "outputs": [
    {
     "data": {
      "image/png": "[encoded data removed]",
      "text/plain": [
       "<matplotlib.figure.Figure at 0x26649406198>"
      ]
     },
     "metadata": {},
     "output_type": "display_data"
    }
   ],
   "source": [
    "red_pts=numpy.array([x for (x,y) in data if y==1])\n",
    "green_pts=numpy.array([x for (x,y) in data if y==0])\n",
    "plt.figure()\n",
    "plt.scatter(red_pts,0*red_pts,color=\"red\",linewidth=2)\n",
    "plt.scatter(green_pts,0*green_pts,color=\"green\",linewidth=2)\n",
    "plt.xlabel(\"x\")\n",
    "plt.yticks([])\n",
    "plt.title(\"data\")\n",
    "plt.show()\n",
    "plt.close()"
   ]
  },
  {
   "cell_type": "code",
   "execution_count": 5,
   "metadata": {},
   "outputs": [],
   "source": [
    "class Regression:\n",
    "    def __init__(self,data,penalty=0):\n",
    "        self.xvals=[x for (x,_) in data]\n",
    "        self.yvals=[y for (_,y) in data]\n",
    "        self.penalty=penalty\n",
    "        self.ctr=0\n",
    "        \n",
    "    def make_logistic_function(self,scale_inv,threshold):\n",
    "        def logistic_function(x):\n",
    "            temp=scale_inv*(x-threshold) #the standard notation is mx+b, which I have written as\n",
    "            #inverse scale and threshold; this is for simplicity\n",
    "            temp=numpy.exp(temp)\n",
    "            return temp/(1+temp)\n",
    "        return logistic_function\n",
    "    \n",
    "    def Err(self,x):\n",
    "        (scale_inv,threshold)=x\n",
    "        logistic_function=self.make_logistic_function(scale_inv,threshold)\n",
    "        err=yvals-logistic_function(xvals)\n",
    "        return numpy.mean(err**2)+self.penalty*scale_inv**2 ## could use numpy.sum\n",
    "    \n",
    "    def callback(self,x):\n",
    "        print(\"ctr=\"+str(self.ctr)+\"; x=\"+str(x)+\"; error=\"+str(self.Err(x)))\n",
    "        self.ctr+=1\n",
    "               \n"
   ]
  },
  {
   "cell_type": "markdown",
   "metadata": {},
   "source": [
    "## Standard logistic regression can lead to overflow as exponentials become too big or small"
   ]
  },
  {
   "cell_type": "code",
   "execution_count": 6,
   "metadata": {},
   "outputs": [
    {
     "name": "stderr",
     "output_type": "stream",
     "text": [
      "C:\\Users\\richa\\Anaconda3\\lib\\site-packages\\ipykernel\\__main__.py:12: RuntimeWarning: overflow encountered in exp\n",
      "C:\\Users\\richa\\Anaconda3\\lib\\site-packages\\ipykernel\\__main__.py:13: RuntimeWarning: invalid value encountered in true_divide\n",
      "C:\\Users\\richa\\Anaconda3\\lib\\site-packages\\ipykernel\\__main__.py:12: RuntimeWarning: overflow encountered in exp\n"
     ]
    },
    {
     "name": "stdout",
     "output_type": "stream",
     "text": [
      "\n",
      "xvals:\n",
      "[1.764052345967664, 0.4001572083672233, 0.9787379841057392, 2.240893199201458, 1.8675579901499675, -0.977277879876411, 0.9500884175255894, -0.1513572082976979, -0.10321885179355784, 0.41059850193837233]\n",
      "\n",
      "yvals:\n",
      "[1, 1, 1, 1, 1, 0, 1, 0, 0, 1]\n",
      "\n",
      "logistic(1)=0.0024726231566347748\n",
      "\n",
      "Error([1,0.3])=0.37423829752949156\n",
      "ctr=0; x=[0.28528367 0.10593298]; error=0.19889585463020995\n",
      "ctr=1; x=[0.6891848  0.14582771]; error=0.14555194608672878\n",
      "ctr=2; x=[1.52817582 0.28872124]; error=0.08341635983647669\n",
      "ctr=3; x=[2.15943544 0.40439252]; error=0.06307197627078763\n",
      "ctr=4; x=[2.65144747 0.43827143]; error=0.05517065781329555\n",
      "ctr=5; x=[3.40476387 0.40786058]; error=0.044290590500683756\n",
      "ctr=6; x=[4.87700825 0.28429716]; error=0.02893679472440879\n",
      "ctr=7; x=[6.04208035 0.23695827]; error=0.024937443056443423\n",
      "ctr=8; x=[7.15853478 0.25278126]; error=0.020729564613914776\n",
      "ctr=9; x=[9.65786553 0.29733346]; error=0.01503126320136887\n",
      "ctr=10; x=[12.47070453  0.29426117]; error=0.011666817034241295\n",
      "ctr=11; x=[16.82310543  0.28628129]; error=0.008753778719856069\n",
      "ctr=12; x=[22.46528462  0.30377832]; error=0.006782294835873135\n",
      "ctr=13; x=[30.07250415  0.2950131 ]; error=0.005069664083498218\n",
      "ctr=14; x=[40.84980371  0.30244295]; error=0.003763269270246702\n",
      "ctr=15; x=[56.48989507  0.29951644]; error=0.0026120531121060307\n",
      "ctr=16; x=[77.87575864  0.30058776]; error=0.0017780949303162793\n",
      "ctr=17; x=[104.67085867   0.29609541]; error=0.0013168634389440616\n",
      "ctr=18; x=[134.68296528   0.30064076]; error=0.000930232983168539\n",
      "ctr=19; x=[157.27304486   0.30034282]; error=0.0007972666424586625\n",
      "ctr=20; x=[197.27327664   0.30017053]; error=0.0006630322336050389\n",
      "ctr=21; x=[249.00864084   0.300565  ]; error=0.0005602295304913418\n",
      "ctr=22; x=[ 1.10949153e+05 -1.91883585e-01]; error=nan\n",
      "      fun: nan\n",
      " hess_inv: array([[ 6.39355623e+07, -3.16694555e+01],\n",
      "       [-3.16694555e+01,  4.18165973e-02]])\n",
      "      jac: array([nan, nan])\n",
      "  message: 'Desired error not necessarily achieved due to precision loss.'\n",
      "     nfev: 536\n",
      "      nit: 23\n",
      "     njev: 134\n",
      "   status: 2\n",
      "  success: False\n",
      "        x: array([ 1.10949153e+05, -1.91883585e-01])\n",
      "estimated (scale_inv,threshold)=(110949.15343028259, -0.19188358465699168)\n"
     ]
    },
    {
     "name": "stderr",
     "output_type": "stream",
     "text": [
      "C:\\Users\\richa\\Anaconda3\\lib\\site-packages\\ipykernel\\__main__.py:13: RuntimeWarning: invalid value encountered in true_divide\n",
      "C:\\Users\\richa\\Anaconda3\\lib\\site-packages\\ipykernel\\__main__.py:12: RuntimeWarning: overflow encountered in exp\n",
      "C:\\Users\\richa\\Anaconda3\\lib\\site-packages\\ipykernel\\__main__.py:13: RuntimeWarning: invalid value encountered in true_divide\n",
      "C:\\Users\\richa\\Anaconda3\\lib\\site-packages\\numpy\\core\\_methods.py:26: RuntimeWarning: invalid value encountered in reduce\n",
      "  return umr_maximum(a, axis, None, out, keepdims)\n"
     ]
    }
   ],
   "source": [
    "Reg=Regression(data)\n",
    "print(\"\\nxvals:\\n\"+str(Reg.xvals[:10]))\n",
    "print(\"\\nyvals:\\n\"+str(Reg.yvals[:10]))\n",
    "logistic=Reg.make_logistic_function(2,4)\n",
    "print(\"\\nlogistic(1)=\"+str(logistic(1)))\n",
    "print(\"\\nError([1,0.3])=\"+str(Reg.Err([2,4])))\n",
    "out=scipy.optimize.minimize(Reg.Err,[0.1,0.1],callback=Reg.callback)\n",
    "print(out)\n",
    "(scale_inv,threshold)=out.x\n",
    "print(\"estimated (scale_inv,threshold)=\"+str((scale_inv,threshold)))"
   ]
  },
  {
   "cell_type": "markdown",
   "metadata": {
    "collapsed": true
   },
   "source": [
    "## Penalize the scale (preventing overflow)"
   ]
  },
  {
   "cell_type": "code",
   "execution_count": 7,
   "metadata": {},
   "outputs": [
    {
     "name": "stdout",
     "output_type": "stream",
     "text": [
      "ctr=0; x=[0.28508367 0.10593298]; error=0.19900871054502312\n",
      "ctr=1; x=[0.68904    0.14595044]; error=0.14603799156316918\n",
      "ctr=2; x=[1.5048949  0.28597143]; error=0.08676441118834133\n",
      "ctr=3; x=[2.08921951 0.39626582]; error=0.06893460476014904\n",
      "ctr=4; x=[2.49310175 0.42584639]; error=0.06331440264544373\n",
      "ctr=5; x=[2.99446805 0.39896065]; error=0.057318443955130895\n",
      "ctr=6; x=[3.88023079 0.29205309]; error=0.05106009441779061\n",
      "ctr=7; x=[3.98369174 0.28759637]; error=0.05099177544423299\n",
      "ctr=8; x=[4.04541507 0.29090791]; error=0.05096430700167691\n",
      "ctr=9; x=[4.06049409 0.29317872]; error=0.050961569060214956\n",
      "ctr=10; x=[4.0598097  0.29327241]; error=0.05096156395146048\n",
      "      fun: 0.05096156395146048\n",
      " hess_inv: array([[ 1.57386783e+02, -1.15284952e-01],\n",
      "       [-1.15284952e-01,  1.35484213e+00]])\n",
      "      jac: array([ 6.48200512e-07, -4.12529334e-06])\n",
      "  message: 'Optimization terminated successfully.'\n",
      "     nfev: 48\n",
      "      nit: 11\n",
      "     njev: 12\n",
      "   status: 0\n",
      "  success: True\n",
      "        x: array([4.0598097 , 0.29327241])\n",
      "estimated (scale_inv,threshold)=(4.0598096998731865, 0.29327241441037705)\n"
     ]
    }
   ],
   "source": [
    "Reg=Regression(data,penalty=0.001)\n",
    "out=scipy.optimize.minimize(Reg.Err,[0.1,0.1],callback=Reg.callback)\n",
    "print(out)\n",
    "(scale_inv,threshold)=out.x\n",
    "print(\"estimated (scale_inv,threshold)=\"+str((scale_inv,threshold)))"
   ]
  },
  {
   "cell_type": "code",
   "execution_count": 8,
   "metadata": {
    "collapsed": true
   },
   "outputs": [],
   "source": [
    "## Intermediate penalization can lead to the wrong answer"
   ]
  },
  {
   "cell_type": "code",
   "execution_count": 10,
   "metadata": {},
   "outputs": [
    {
     "name": "stdout",
     "output_type": "stream",
     "text": [
      "ctr=0; x=[0.26528367 0.10593298]; error=0.2091218606541012\n",
      "ctr=1; x=[0.58427336 0.14928863]; error=0.19115689947104003\n",
      "ctr=2; x=[0.59863175 0.17885562]; error=0.19039396404948278\n",
      "ctr=3; x=[0.61236251 0.2396683 ]; error=0.1889573601288628\n",
      "ctr=4; x=[0.62635346 0.36784829]; error=0.18650442688381783\n",
      "ctr=5; x=[0.6261419  0.66242459]; error=0.1839225026240652\n",
      "ctr=6; x=[0.59328415 0.69726263]; error=0.18346631527495622\n",
      "ctr=7; x=[0.56622815 0.74102429]; error=0.18334011097051467\n",
      "ctr=8; x=[0.56594282 0.74721222]; error=0.1833391131520899\n",
      "ctr=9; x=[0.5659035  0.74831203]; error=0.183339089429571\n",
      "      fun: 0.183339089429571\n",
      " hess_inv: array([[ 3.12464113, -3.8261774 ],\n",
      "       [-3.8261774 , 28.30079155]])\n",
      "      jac: array([ 4.61935997e-07, -8.75443220e-08])\n",
      "  message: 'Optimization terminated successfully.'\n",
      "     nfev: 44\n",
      "      nit: 10\n",
      "     njev: 11\n",
      "   status: 0\n",
      "  success: True\n",
      "        x: array([0.5659035 , 0.74831203])\n",
      "estimated (scale_inv,threshold)=(0.5659034967932198, 0.748312027582126)\n"
     ]
    }
   ],
   "source": [
    "Reg=Regression(data,penalty=0.1)\n",
    "out=scipy.optimize.minimize(Reg.Err,[0.1,0.1],callback=Reg.callback)\n",
    "print(out)\n",
    "(scale_inv,threshold)=out.x\n",
    "print(\"estimated (scale_inv,threshold)=\"+str((scale_inv,threshold)))"
   ]
  },
  {
   "cell_type": "code",
   "execution_count": null,
   "metadata": {
    "collapsed": true
   },
   "outputs": [],
   "source": []
  }
 ],
 "metadata": {
  "kernelspec": {
   "display_name": "Python 3",
   "language": "python",
   "name": "python3"
  },
  "language_info": {
   "codemirror_mode": {
    "name": "ipython",
    "version": 3
   },
   "file_extension": ".py",
   "mimetype": "text/x-python",
   "name": "python",
   "nbconvert_exporter": "python",
   "pygments_lexer": "ipython3",
   "version": "3.6.5"
  }
 },
 "nbformat": 4,
 "nbformat_minor": 1
}
