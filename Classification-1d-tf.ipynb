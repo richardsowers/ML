{
 "cells": [
  {
   "cell_type": "markdown",
   "metadata": {},
   "source": [
    "## 1-dimensional Classification via tensorflow ##\n",
    "Richard Sowers 2018-05-16\n",
    "\n",
    "Copyright 2018 University of Illinois Board of Trustees. All Rights Reserved. Licensed under the MIT license\n",
    "\n",
    "based in part on <https://www.tensorflow.org/tutorials/keras/basic_classification>"
   ]
  },
  {
   "cell_type": "code",
   "execution_count": 1,
   "metadata": {},
   "outputs": [],
   "source": [
    "import numpy\n",
    "import itertools\n",
    "%matplotlib inline\n",
    "#%matplotlib notebook\n",
    "import matplotlib.pyplot as plt\n",
    "import tensorflow\n",
    "from tensorflow import keras"
   ]
  },
  {
   "cell_type": "code",
   "execution_count": 2,
   "metadata": {},
   "outputs": [],
   "source": [
    "numpy.random.seed(0)\n",
    "N=500\n",
    "threshold=0.3"
   ]
  },
  {
   "cell_type": "code",
   "execution_count": 3,
   "metadata": {},
   "outputs": [],
   "source": [
    "xvals=numpy.random.normal(size=N)\n",
    "labels=[(1 if x>threshold else 0) for x in xvals]"
   ]
  },
  {
   "cell_type": "code",
   "execution_count": 4,
   "metadata": {},
   "outputs": [
    {
     "data": {
      "image/png": "[encoded data removed]",
      "text/plain": [
       "<Figure size 432x288 with 1 Axes>"
      ]
     },
     "metadata": {},
     "output_type": "display_data"
    }
   ],
   "source": [
    "red_pts=numpy.array([x for (x,label) in zip(xvals,labels) if label==1])\n",
    "green_pts=numpy.array([x for (x,label) in zip(xvals,labels) if label==0])\n",
    "plt.figure()\n",
    "plt.scatter(red_pts,0*red_pts,color=\"red\",linewidth=2)\n",
    "plt.scatter(green_pts,0*green_pts,color=\"green\",linewidth=2)\n",
    "plt.xlabel(\"x\")\n",
    "plt.yticks([])\n",
    "plt.title(\"data\")\n",
    "plt.show()\n",
    "plt.close()"
   ]
  },
  {
   "cell_type": "code",
   "execution_count": 5,
   "metadata": {},
   "outputs": [],
   "source": [
    "# let's try to do logistic regression\n",
    "model = keras.Sequential([\n",
    "    #keras.layers.Flatten(input_shape=(1,1)),\n",
    "    #keras.layers.Dense(2, activation=tensorflow.nn.relu),\n",
    "    keras.layers.Dense(2, activation=tensorflow.nn.softmax)\n",
    "])\n",
    "model.compile(optimizer=tensorflow.train.AdamOptimizer(), \n",
    "              loss='sparse_categorical_crossentropy',\n",
    "              metrics=['accuracy'])"
   ]
  },
  {
   "cell_type": "code",
   "execution_count": 6,
   "metadata": {},
   "outputs": [
    {
     "name": "stdout",
     "output_type": "stream",
     "text": [
      "(500, 1)\n",
      "500\n"
     ]
    }
   ],
   "source": [
    "xvals_shaped=numpy.array([[xx] for xx in xvals])\n",
    "labels_shaped=numpy.array(labels)\n",
    "print(xvals_shaped.shape)\n",
    "print(len(labels))"
   ]
  },
  {
   "cell_type": "code",
   "execution_count": 15,
   "metadata": {},
   "outputs": [
    {
     "name": "stdout",
     "output_type": "stream",
     "text": [
      "Epoch 1/30\n",
      "500/500 [==============================] - 0s 50us/step - loss: 0.3038 - acc: 0.9580\n",
      "Epoch 2/30\n",
      "500/500 [==============================] - 0s 44us/step - loss: 0.3012 - acc: 0.9600\n",
      "Epoch 3/30\n",
      "500/500 [==============================] - 0s 48us/step - loss: 0.2987 - acc: 0.9640\n",
      "Epoch 4/30\n",
      "500/500 [==============================] - 0s 86us/step - loss: 0.2963 - acc: 0.9640\n",
      "Epoch 5/30\n",
      "500/500 [==============================] - 0s 90us/step - loss: 0.2939 - acc: 0.9640\n",
      "Epoch 6/30\n",
      "500/500 [==============================] - 0s 90us/step - loss: 0.2915 - acc: 0.9640\n",
      "Epoch 7/30\n",
      "500/500 [==============================] - 0s 94us/step - loss: 0.2892 - acc: 0.9640\n",
      "Epoch 8/30\n",
      "500/500 [==============================] - 0s 100us/step - loss: 0.2869 - acc: 0.9660\n",
      "Epoch 9/30\n",
      "500/500 [==============================] - 0s 84us/step - loss: 0.2847 - acc: 0.9700\n",
      "Epoch 10/30\n",
      "500/500 [==============================] - 0s 76us/step - loss: 0.2825 - acc: 0.9700\n",
      "Epoch 11/30\n",
      "500/500 [==============================] - 0s 84us/step - loss: 0.2804 - acc: 0.9700\n",
      "Epoch 12/30\n",
      "500/500 [==============================] - 0s 74us/step - loss: 0.2783 - acc: 0.9700\n",
      "Epoch 13/30\n",
      "500/500 [==============================] - 0s 62us/step - loss: 0.2762 - acc: 0.9720\n",
      "Epoch 14/30\n",
      "500/500 [==============================] - 0s 66us/step - loss: 0.2742 - acc: 0.9740\n",
      "Epoch 15/30\n",
      "500/500 [==============================] - 0s 72us/step - loss: 0.2722 - acc: 0.9740\n",
      "Epoch 16/30\n",
      "500/500 [==============================] - 0s 58us/step - loss: 0.2703 - acc: 0.9740\n",
      "Epoch 17/30\n",
      "500/500 [==============================] - 0s 60us/step - loss: 0.2683 - acc: 0.9740\n",
      "Epoch 18/30\n",
      "500/500 [==============================] - 0s 80us/step - loss: 0.2664 - acc: 0.9740\n",
      "Epoch 19/30\n",
      "500/500 [==============================] - 0s 88us/step - loss: 0.2646 - acc: 0.9740\n",
      "Epoch 20/30\n",
      "500/500 [==============================] - 0s 66us/step - loss: 0.2627 - acc: 0.9740\n",
      "Epoch 21/30\n",
      "500/500 [==============================] - 0s 118us/step - loss: 0.2609 - acc: 0.9740\n",
      "Epoch 22/30\n",
      "500/500 [==============================] - 0s 92us/step - loss: 0.2592 - acc: 0.9780\n",
      "Epoch 23/30\n",
      "500/500 [==============================] - 0s 86us/step - loss: 0.2574 - acc: 0.9800\n",
      "Epoch 24/30\n",
      "500/500 [==============================] - 0s 68us/step - loss: 0.2557 - acc: 0.9800\n",
      "Epoch 25/30\n",
      "500/500 [==============================] - 0s 94us/step - loss: 0.2540 - acc: 0.9800\n",
      "Epoch 26/30\n",
      "500/500 [==============================] - 0s 84us/step - loss: 0.2524 - acc: 0.9800\n",
      "Epoch 27/30\n",
      "500/500 [==============================] - 0s 74us/step - loss: 0.2507 - acc: 0.9820\n",
      "Epoch 28/30\n",
      "500/500 [==============================] - 0s 100us/step - loss: 0.2491 - acc: 0.9820\n",
      "Epoch 29/30\n",
      "500/500 [==============================] - 0s 122us/step - loss: 0.2475 - acc: 0.9820\n",
      "Epoch 30/30\n",
      "500/500 [==============================] - 0s 108us/step - loss: 0.2459 - acc: 0.9820\n"
     ]
    },
    {
     "data": {
      "text/plain": [
       "<tensorflow.python.keras._impl.keras.callbacks.History at 0x191e0238dd8>"
      ]
     },
     "execution_count": 15,
     "metadata": {},
     "output_type": "execute_result"
    }
   ],
   "source": [
    "numpy.random.seed(0) #results seem to fluctuate with seed\n",
    "model.fit(xvals_shaped, labels_shaped, initial_epoch=0,epochs=30)"
   ]
  },
  {
   "cell_type": "code",
   "execution_count": 16,
   "metadata": {},
   "outputs": [
    {
     "name": "stdout",
     "output_type": "stream",
     "text": [
      "[[0.47200412 0.5279958 ]]\n",
      "1\n",
      "[[0.49841517 0.5015849 ]]\n",
      "1\n",
      "[[0.55111647 0.44888353]]\n",
      "0\n",
      "[[0.5771156  0.42288437]]\n",
      "0\n"
     ]
    }
   ],
   "source": [
    "def predict(in_x):\n",
    "    confidences=model.predict(numpy.expand_dims([in_x],0))\n",
    "    print(confidences)\n",
    "    return numpy.argmax(confidences[0])\n",
    "    \n",
    "print(predict(0.4))\n",
    "print(predict(0.35))\n",
    "print(predict(0.25))\n",
    "print(predict(0.2))"
   ]
  },
  {
   "cell_type": "code",
   "execution_count": null,
   "metadata": {},
   "outputs": [],
   "source": []
  }
 ],
 "metadata": {
  "kernelspec": {
   "display_name": "Python 3",
   "language": "python",
   "name": "python3"
  },
  "language_info": {
   "codemirror_mode": {
    "name": "ipython",
    "version": 3
   },
   "file_extension": ".py",
   "mimetype": "text/x-python",
   "name": "python",
   "nbconvert_exporter": "python",
   "pygments_lexer": "ipython3",
   "version": "3.6.5"
  }
 },
 "nbformat": 4,
 "nbformat_minor": 1
}
