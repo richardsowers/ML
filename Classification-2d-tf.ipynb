{
 "cells": [
  {
   "cell_type": "markdown",
   "metadata": {},
   "source": [
    "### 2-dimensional Classification via tensorflow ###\n",
    "Richard Sowers 2018-05-16\n",
    "\n",
    "Copyright 2018 University of Illinois Board of Trustees. All Rights Reserved. Licensed under the MIT license\n",
    "\n",
    "based in part on https://www.tensorflow.org/tutorials/keras/basic_classification"
   ]
  },
  {
   "cell_type": "code",
   "execution_count": 13,
   "metadata": {},
   "outputs": [],
   "source": [
    "import numpy\n",
    "%matplotlib inline\n",
    "#%matplotlib notebook\n",
    "import matplotlib.pyplot as plt\n",
    "import tensorflow\n",
    "from tensorflow import keras"
   ]
  },
  {
   "cell_type": "code",
   "execution_count": 25,
   "metadata": {},
   "outputs": [],
   "source": [
    "numpy.random.seed(0)\n",
    "N=50\n",
    "def classifier(point):\n",
    "    (x,y)=point\n",
    "    return 1 if 2*x+y>1 else 0"
   ]
  },
  {
   "cell_type": "code",
   "execution_count": 26,
   "metadata": {},
   "outputs": [
    {
     "name": "stdout",
     "output_type": "stream",
     "text": [
      "[[ 1.76405235  0.40015721]\n",
      " [ 0.97873798  2.2408932 ]\n",
      " [ 1.86755799 -0.97727788]\n",
      " [ 0.95008842 -0.15135721]\n",
      " [-0.10321885  0.4105985 ]\n",
      " [ 0.14404357  1.45427351]\n",
      " [ 0.76103773  0.12167502]\n",
      " [ 0.44386323  0.33367433]\n",
      " [ 1.49407907 -0.20515826]\n",
      " [ 0.3130677  -0.85409574]]\n",
      "[1, 1, 1, 1, 0, 1, 1, 1, 1, 0]\n"
     ]
    }
   ],
   "source": [
    "points=numpy.random.normal(size=[N,2])\n",
    "labels=[classifier(point) for point in points]\n",
    "print(points[:10])\n",
    "print(labels[:10])"
   ]
  },
  {
   "cell_type": "code",
   "execution_count": 27,
   "metadata": {},
   "outputs": [],
   "source": [
    "red_pts=numpy.array([point for (point,flag) in zip(points,labels) if flag==1])\n",
    "green_pts=numpy.array([point for (point,flag) in zip(points,labels) if flag==0])"
   ]
  },
  {
   "cell_type": "code",
   "execution_count": 28,
   "metadata": {},
   "outputs": [
    {
     "data": {
      "image/png": "[encoded data removed]",
      "text/plain": [
       "<Figure size 432x288 with 1 Axes>"
      ]
     },
     "metadata": {},
     "output_type": "display_data"
    }
   ],
   "source": [
    "plt.figure()\n",
    "plt.scatter(red_pts[:,0],red_pts[:,1],color=\"red\",linewidth=2)\n",
    "plt.scatter(green_pts[:,0],green_pts[:,1],color=\"green\",linewidth=2)\n",
    "plt.xlabel(\"x\")\n",
    "plt.ylabel(\"y\")\n",
    "plt.title(\"data\")\n",
    "plt.show()\n",
    "plt.close()"
   ]
  },
  {
   "cell_type": "code",
   "execution_count": 29,
   "metadata": {},
   "outputs": [],
   "source": [
    "# let's try to do logistic regression\n",
    "model = keras.Sequential([\n",
    "    #keras.layers.Flatten(input_shape=(1,1)),\n",
    "    #keras.layers.Dense(2, activation=tensorflow.nn.relu),\n",
    "    keras.layers.Dense(2, activation=tensorflow.nn.softmax)\n",
    "])\n",
    "model.compile(optimizer=tensorflow.train.AdamOptimizer(), \n",
    "              loss='sparse_categorical_crossentropy',\n",
    "              metrics=['accuracy'])"
   ]
  },
  {
   "cell_type": "code",
   "execution_count": 30,
   "metadata": {},
   "outputs": [
    {
     "name": "stdout",
     "output_type": "stream",
     "text": [
      "(50, 2)\n",
      "50\n"
     ]
    }
   ],
   "source": [
    "points_shaped=numpy.array(points)\n",
    "labels_shaped=numpy.array(labels)\n",
    "print(points.shape)\n",
    "print(len(labels))"
   ]
  },
  {
   "cell_type": "code",
   "execution_count": 31,
   "metadata": {},
   "outputs": [
    {
     "name": "stdout",
     "output_type": "stream",
     "text": [
      "Epoch 1/30\n",
      "50/50 [==============================] - 0s 3ms/step - loss: 1.3825 - acc: 0.2000\n",
      "Epoch 2/30\n",
      "50/50 [==============================] - 0s 160us/step - loss: 1.3793 - acc: 0.2000\n",
      "Epoch 3/30\n",
      "50/50 [==============================] - 0s 120us/step - loss: 1.3757 - acc: 0.2000\n",
      "Epoch 4/30\n",
      "50/50 [==============================] - 0s 120us/step - loss: 1.3728 - acc: 0.2000\n",
      "Epoch 5/30\n",
      "50/50 [==============================] - 0s 140us/step - loss: 1.3694 - acc: 0.2000\n",
      "Epoch 6/30\n",
      "50/50 [==============================] - 0s 219us/step - loss: 1.3662 - acc: 0.2000\n",
      "Epoch 7/30\n",
      "50/50 [==============================] - 0s 180us/step - loss: 1.3630 - acc: 0.2000\n",
      "Epoch 8/30\n",
      "50/50 [==============================] - 0s 179us/step - loss: 1.3594 - acc: 0.2200\n",
      "Epoch 9/30\n",
      "50/50 [==============================] - 0s 100us/step - loss: 1.3565 - acc: 0.2200\n",
      "Epoch 10/30\n",
      "50/50 [==============================] - 0s 279us/step - loss: 1.3529 - acc: 0.2200\n",
      "Epoch 11/30\n",
      "50/50 [==============================] - 0s 179us/step - loss: 1.3495 - acc: 0.2200\n",
      "Epoch 12/30\n",
      "50/50 [==============================] - 0s 100us/step - loss: 1.3461 - acc: 0.2200\n",
      "Epoch 13/30\n",
      "50/50 [==============================] - 0s 140us/step - loss: 1.3429 - acc: 0.2200\n",
      "Epoch 14/30\n",
      "50/50 [==============================] - 0s 179us/step - loss: 1.3394 - acc: 0.2400\n",
      "Epoch 15/30\n",
      "50/50 [==============================] - 0s 180us/step - loss: 1.3360 - acc: 0.2400\n",
      "Epoch 16/30\n",
      "50/50 [==============================] - 0s 259us/step - loss: 1.3326 - acc: 0.2400\n",
      "Epoch 17/30\n",
      "50/50 [==============================] - 0s 140us/step - loss: 1.3293 - acc: 0.2400\n",
      "Epoch 18/30\n",
      "50/50 [==============================] - 0s 120us/step - loss: 1.3259 - acc: 0.2400\n",
      "Epoch 19/30\n",
      "50/50 [==============================] - 0s 120us/step - loss: 1.3224 - acc: 0.2400\n",
      "Epoch 20/30\n",
      "50/50 [==============================] - 0s 180us/step - loss: 1.3190 - acc: 0.2400\n",
      "Epoch 21/30\n",
      "50/50 [==============================] - 0s 120us/step - loss: 1.3157 - acc: 0.2400\n",
      "Epoch 22/30\n",
      "50/50 [==============================] - 0s 180us/step - loss: 1.3124 - acc: 0.2400\n",
      "Epoch 23/30\n",
      "50/50 [==============================] - 0s 120us/step - loss: 1.3088 - acc: 0.2400\n",
      "Epoch 24/30\n",
      "50/50 [==============================] - 0s 180us/step - loss: 1.3057 - acc: 0.2400\n",
      "Epoch 25/30\n",
      "50/50 [==============================] - 0s 180us/step - loss: 1.3022 - acc: 0.2400\n",
      "Epoch 26/30\n",
      "50/50 [==============================] - 0s 100us/step - loss: 1.2988 - acc: 0.2400\n",
      "Epoch 27/30\n",
      "50/50 [==============================] - 0s 100us/step - loss: 1.2956 - acc: 0.2400\n",
      "Epoch 28/30\n",
      "50/50 [==============================] - 0s 100us/step - loss: 1.2924 - acc: 0.2400\n",
      "Epoch 29/30\n",
      "50/50 [==============================] - 0s 120us/step - loss: 1.2889 - acc: 0.2400\n",
      "Epoch 30/30\n",
      "50/50 [==============================] - 0s 100us/step - loss: 1.2857 - acc: 0.2400\n"
     ]
    },
    {
     "data": {
      "text/plain": [
       "<tensorflow.python.keras._impl.keras.callbacks.History at 0x1f50d51af98>"
      ]
     },
     "execution_count": 31,
     "metadata": {},
     "output_type": "execute_result"
    }
   ],
   "source": [
    "numpy.random.seed(0) #results seem to fluctuate with seed\n",
    "model.fit(points_shaped, labels_shaped, initial_epoch=0,epochs=30)"
   ]
  },
  {
   "cell_type": "code",
   "execution_count": 34,
   "metadata": {},
   "outputs": [
    {
     "name": "stdout",
     "output_type": "stream",
     "text": [
      "[[0.5597222  0.44027776]]\n"
     ]
    },
    {
     "data": {
      "text/plain": [
       "0"
      ]
     },
     "execution_count": 34,
     "metadata": {},
     "output_type": "execute_result"
    }
   ],
   "source": [
    "def predict(point):\n",
    "    confidences=model.predict(numpy.expand_dims(point,0))\n",
    "    print(confidences)\n",
    "    return numpy.argmax(confidences[0])\n",
    "\n",
    "predict((0,0.5))"
   ]
  }
 ],
 "metadata": {
  "kernelspec": {
   "display_name": "Python 3",
   "language": "python",
   "name": "python3"
  },
  "language_info": {
   "codemirror_mode": {
    "name": "ipython",
    "version": 3
   },
   "file_extension": ".py",
   "mimetype": "text/x-python",
   "name": "python",
   "nbconvert_exporter": "python",
   "pygments_lexer": "ipython3",
   "version": "3.6.5"
  }
 },
 "nbformat": 4,
 "nbformat_minor": 1
}
