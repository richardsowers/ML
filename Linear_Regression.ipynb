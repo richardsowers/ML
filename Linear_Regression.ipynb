{
 "cells": [
  {
   "cell_type": "markdown",
   "metadata": {},
   "source": [
    "## Linear Regression ##\n",
    "Richard Sowers 2018-05-16\n",
    "\n",
    "Copyright 2018 University of Illinois Board of Trustees. All Rights Reserved. Licensed under the MIT license"
   ]
  },
  {
   "cell_type": "code",
   "execution_count": 1,
   "metadata": {
    "collapsed": true
   },
   "outputs": [],
   "source": [
    "import numpy\n",
    "%matplotlib inline\n",
    "#%matplotlib notebook\n",
    "import matplotlib.pyplot as plt\n",
    "import scipy.optimize"
   ]
  },
  {
   "cell_type": "code",
   "execution_count": 2,
   "metadata": {
    "collapsed": true
   },
   "outputs": [],
   "source": [
    "numpy.random.seed(0)\n",
    "N=100\n",
    "err_scale=0.1\n",
    "M=2\n",
    "B=3"
   ]
  },
  {
   "cell_type": "code",
   "execution_count": 3,
   "metadata": {},
   "outputs": [
    {
     "name": "stdout",
     "output_type": "stream",
     "text": [
      "[(1.764052345967664, 6.716419761640953), (0.4001572083672233, 3.665538510620202), (0.9787379841057392, 4.830427468362905), (2.240893199201458, 7.578726069218717), (1.8675579901499675, 6.617803639788519), (-0.977277879876411, 1.2398063588121073), (0.9500884175255894, 4.858814936975204), (-0.1513572082976979, 2.6225401022605284), (-0.10321885179355784, 2.9858564990609224), (0.41059850193837233, 3.9692484830201873)]\n"
     ]
    }
   ],
   "source": [
    "xvals=numpy.random.normal(size=N)\n",
    "yvals=M*xvals+B+numpy.random.normal(scale=err_scale,size=N)\n",
    "data=[(x,y) for (x,y) in zip(xvals,yvals)]\n",
    "print(data[:10])"
   ]
  },
  {
   "cell_type": "code",
   "execution_count": 4,
   "metadata": {},
   "outputs": [
    {
     "data": {
      "image/png": "[encoded data removed]",
      "text/plain": [
       "<matplotlib.figure.Figure at 0x264e3e2d320>"
      ]
     },
     "metadata": {},
     "output_type": "display_data"
    }
   ],
   "source": [
    "plt.figure()\n",
    "plt.scatter(xvals,yvals,color=\"blue\",linewidth=2)\n",
    "plt.ylabel(\"x\")\n",
    "plt.xlabel(\"y\")\n",
    "plt.title(\"data\")\n",
    "plt.show()\n",
    "plt.close()"
   ]
  },
  {
   "cell_type": "code",
   "execution_count": 5,
   "metadata": {},
   "outputs": [
    {
     "name": "stdout",
     "output_type": "stream",
     "text": [
      "\n",
      "xvals:\n",
      "[1.764052345967664, 0.4001572083672233, 0.9787379841057392, 2.240893199201458, 1.8675579901499675, -0.977277879876411, 0.9500884175255894, -0.1513572082976979, -0.10321885179355784, 0.41059850193837233]\n",
      "\n",
      "yvals:\n",
      "[6.716419761640953, 3.665538510620202, 4.830427468362905, 7.578726069218717, 6.617803639788519, 1.2398063588121073, 4.858814936975204, 2.6225401022605284, 2.9858564990609224, 3.9692484830201873]\n",
      "\n",
      "line(1)=6\n",
      "\n",
      "Error([2,4])=0.9943700250800238\n"
     ]
    }
   ],
   "source": [
    "class Regression:\n",
    "    def __init__(self,data):\n",
    "        self.xvals=[x for (x,_) in data]\n",
    "        self.yvals=[y for (_,y) in data]\n",
    "        self.ctr=0\n",
    "        \n",
    "    def make_linear_function(self,m,b):\n",
    "        def linear_function(x):\n",
    "            return m*x+b\n",
    "        return linear_function\n",
    "    \n",
    "    def Err(self,x):\n",
    "        (m,b)=x\n",
    "        linear_function=self.make_linear_function(m,b)\n",
    "        err=yvals-linear_function(xvals)\n",
    "        return numpy.mean(err**2) ## could use numpy.sum\n",
    "    \n",
    "    def callback(self,x):\n",
    "        print(\"ctr=\"+str(self.ctr)+\"; x=\"+str(x)+\"; error=\"+str(self.Err(x)))\n",
    "        self.ctr+=1\n",
    "               \n",
    "Reg=Regression(data)\n",
    "print(\"\\nxvals:\\n\"+str(Reg.xvals[:10]))\n",
    "print(\"\\nyvals:\\n\"+str(Reg.yvals[:10]))\n",
    "line=Reg.make_linear_function(2,4)\n",
    "print(\"\\nline(1)=\"+str(line(1)))\n",
    "print(\"\\nError([2,4])=\"+str(Reg.Err([2,4])))"
   ]
  },
  {
   "cell_type": "code",
   "execution_count": 6,
   "metadata": {},
   "outputs": [
    {
     "name": "stdout",
     "output_type": "stream",
     "text": [
      "ctr=0; x=[0.58639197 0.82234084]; error=7.228301456479807\n",
      "ctr=1; x=[1.84216169 2.91619636]; error=0.04998171705709775\n",
      "ctr=2; x=[2.08619748 2.95909595]; error=0.018175924291563228\n",
      "ctr=3; x=[2.00567556 3.03284476]; error=0.0112299693729346\n",
      "ctr=4; x=[2.00998543 3.00584268]; error=0.010577059443415738\n",
      "ctr=5; x=[2.011621   3.00753101]; error=0.01057174236489278\n",
      "ctr=6; x=[2.01146752 3.00751759]; error=0.010571718551991332\n",
      "      fun: 0.010571718551991332\n",
      " hess_inv: array([[ 0.5010781 , -0.03821743],\n",
      "       [-0.03821743,  0.51045214]])\n",
      "      jac: array([-4.44578473e-06,  4.30725049e-06])\n",
      "  message: 'Optimization terminated successfully.'\n",
      "     nfev: 32\n",
      "      nit: 7\n",
      "     njev: 8\n",
      "   status: 0\n",
      "  success: True\n",
      "        x: array([2.01146752, 3.00751759])\n",
      "estimated (m,b)=(2.0114675209969843, 3.0075175936414005)\n"
     ]
    }
   ],
   "source": [
    "out=scipy.optimize.minimize(Reg.Err,[0,0],callback=Reg.callback)\n",
    "print(out)\n",
    "(m,b)=out.x\n",
    "print(\"estimated (m,b)=\"+str((m,b)))"
   ]
  },
  {
   "cell_type": "code",
   "execution_count": null,
   "metadata": {
    "collapsed": true
   },
   "outputs": [],
   "source": []
  }
 ],
 "metadata": {
  "kernelspec": {
   "display_name": "Python 3",
   "language": "python",
   "name": "python3"
  },
  "language_info": {
   "codemirror_mode": {
    "name": "ipython",
    "version": 3
   },
   "file_extension": ".py",
   "mimetype": "text/x-python",
   "name": "python",
   "nbconvert_exporter": "python",
   "pygments_lexer": "ipython3",
   "version": "3.6.5"
  }
 },
 "nbformat": 4,
 "nbformat_minor": 1
}
