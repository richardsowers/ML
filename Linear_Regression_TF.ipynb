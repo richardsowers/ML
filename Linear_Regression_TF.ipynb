{
 "cells": [
  {
   "cell_type": "markdown",
   "metadata": {},
   "source": [
    "## Linear Regression ##\n",
    "Richard Sowers 2018-05-16\n",
    "Pavle Coric 2018-05-17\n",
    "\n",
    "Copyright 2018 University of Illinois Board of Trustees. All Rights Reserved. Licensed under the MIT license"
   ]
  },
  {
   "cell_type": "markdown",
   "metadata": {},
   "source": [
    "See <https://www.tensorflow.org/api_guides/python/regression_examples>"
   ]
  },
  {
   "cell_type": "code",
   "execution_count": 1,
   "metadata": {},
   "outputs": [],
   "source": [
    "import numpy\n",
    "%matplotlib inline\n",
    "#%matplotlib notebook\n",
    "import matplotlib.pyplot as plt\n",
    "import tensorflow as tf"
   ]
  },
  {
   "cell_type": "code",
   "execution_count": 2,
   "metadata": {},
   "outputs": [],
   "source": [
    "numpy.random.seed(0)\n",
    "#tf.set_random_seed(0)\n",
    "N=100\n",
    "err_scale=0.1\n",
    "M=2\n",
    "B=3"
   ]
  },
  {
   "cell_type": "code",
   "execution_count": 3,
   "metadata": {},
   "outputs": [
    {
     "name": "stdout",
     "output_type": "stream",
     "text": [
      "[(1.764052345967664, 6.716419761640953), (0.4001572083672233, 3.665538510620202), (0.9787379841057392, 4.830427468362905), (2.240893199201458, 7.578726069218717), (1.8675579901499675, 6.617803639788519), (-0.977277879876411, 1.2398063588121073), (0.9500884175255894, 4.858814936975204), (-0.1513572082976979, 2.6225401022605284), (-0.10321885179355784, 2.9858564990609224), (0.41059850193837233, 3.9692484830201873)]\n"
     ]
    }
   ],
   "source": [
    "xvals=numpy.random.normal(size=N)\n",
    "yvals=M*xvals+B+numpy.random.normal(scale=err_scale,size=N)\n",
    "data=[(x,y) for (x,y) in zip(xvals,yvals)]\n",
    "print(data[:10])"
   ]
  },
  {
   "cell_type": "code",
   "execution_count": 4,
   "metadata": {},
   "outputs": [
    {
     "data": {
      "image/png": "[encoded data removed]",
      "text/plain": [
       "<Figure size 432x288 with 1 Axes>"
      ]
     },
     "metadata": {},
     "output_type": "display_data"
    }
   ],
   "source": [
    "plt.figure()\n",
    "plt.scatter(xvals,yvals,color=\"blue\",linewidth=2)\n",
    "plt.ylabel(\"x\")\n",
    "plt.xlabel(\"y\")\n",
    "plt.title(\"data\")\n",
    "plt.show()\n",
    "plt.close()"
   ]
  },
  {
   "cell_type": "markdown",
   "metadata": {},
   "source": [
    "### Direct conversion of minimization problem into TF ###\n",
    "Comments on below:\n",
    "* if normalizer is set to 1, learning_rate needs to be about 0.001 to converge in about 50 iterations\n",
    "* if normalizer is set to len(data), learning rate can be set to 0.05 to converge in 50 iterations"
   ]
  },
  {
   "cell_type": "code",
   "execution_count": 5,
   "metadata": {},
   "outputs": [
    {
     "name": "stdout",
     "output_type": "stream",
     "text": [
      "starting at [m,b]=[0.0, 0.0]\n",
      "ctr=0; [m,b]=[0.22303732, 0.31278175]\n",
      "ctr=1; [m,b]=[0.42146742, 0.5929514]\n",
      "ctr=2; [m,b]=[0.59799385, 0.8439173]\n",
      "ctr=3; [m,b]=[0.7550242, 1.0687308]\n",
      "ctr=4; [m,b]=[0.8947022, 1.2701238]\n",
      "ctr=5; [m,b]=[1.0189369, 1.4505421]\n",
      "ctr=6; [m,b]=[1.129428, 1.6121756]\n",
      "ctr=7; [m,b]=[1.2276889, 1.7569848]\n",
      "ctr=8; [m,b]=[1.315067, 1.8867255]\n",
      "ctr=9; [m,b]=[1.3927618, 2.0029695]\n",
      "ctr=10; [m,b]=[1.4618411, 2.1071243]\n",
      "ctr=11; [m,b]=[1.5232555, 2.2004507]\n",
      "ctr=12; [m,b]=[1.577851, 2.284077]\n",
      "ctr=13; [m,b]=[1.626381, 2.359014]\n",
      "ctr=14; [m,b]=[1.6695157, 2.4261672]\n",
      "ctr=15; [m,b]=[1.7078515, 2.4863472]\n",
      "ctr=16; [m,b]=[1.7419195, 2.5402799]\n",
      "ctr=17; [m,b]=[1.772192, 2.5886154]\n",
      "ctr=18; [m,b]=[1.7990894, 2.6319366]\n",
      "ctr=19; [m,b]=[1.8229859, 2.6707647]\n",
      "ctr=20; [m,b]=[1.8442141, 2.7055671]\n",
      "ctr=21; [m,b]=[1.8630701, 2.7367623]\n",
      "ctr=22; [m,b]=[1.8798174, 2.7647252]\n",
      "ctr=23; [m,b]=[1.8946902, 2.7897916]\n",
      "ctr=24; [m,b]=[1.9078969, 2.8122623]\n",
      "ctr=25; [m,b]=[1.9196229, 2.832407]\n",
      "ctr=26; [m,b]=[1.9300331, 2.8504672]\n",
      "ctr=27; [m,b]=[1.9392741, 2.8666592]\n",
      "ctr=28; [m,b]=[1.9474761, 2.8811765]\n",
      "ctr=29; [m,b]=[1.9547553, 2.8941932]\n",
      "ctr=30; [m,b]=[1.9612145, 2.9058645]\n",
      "ctr=31; [m,b]=[1.9669455, 2.91633]\n",
      "ctr=32; [m,b]=[1.9720297, 2.925715]\n",
      "ctr=33; [m,b]=[1.9765395, 2.934131]\n",
      "ctr=34; [m,b]=[1.9805392, 2.9416783]\n",
      "ctr=35; [m,b]=[1.984086, 2.948447]\n",
      "ctr=36; [m,b]=[1.9872308, 2.9545176]\n",
      "ctr=37; [m,b]=[1.9900187, 2.9599624]\n",
      "ctr=38; [m,b]=[1.9924898, 2.964846]\n",
      "ctr=39; [m,b]=[1.9946798, 2.9692264]\n",
      "ctr=40; [m,b]=[1.9966204, 2.9731557]\n",
      "ctr=41; [m,b]=[1.9983397, 2.9766805]\n",
      "ctr=42; [m,b]=[1.9998626, 2.9798424]\n",
      "ctr=43; [m,b]=[2.0012114, 2.9826791]\n",
      "ctr=44; [m,b]=[2.0024056, 2.985224]\n",
      "ctr=45; [m,b]=[2.003463, 2.9875073]\n",
      "ctr=46; [m,b]=[2.0043988, 2.989556]\n",
      "ctr=47; [m,b]=[2.005227, 2.9913943]\n",
      "ctr=48; [m,b]=[2.00596, 2.9930437]\n",
      "ctr=49; [m,b]=[2.0066082, 2.9945238]\n"
     ]
    }
   ],
   "source": [
    "CTR=50\n",
    "normalizer=len(data)\n",
    "m = tf.Variable(0, name='m', dtype=tf.float32)\n",
    "b = tf.Variable(0, name='b', dtype=tf.float32)\n",
    "error=yvals-(xvals*m+b)\n",
    "loss = tf.square(error,name=\"loss\")/normalizer\n",
    "\n",
    "optimizer = tf.train.GradientDescentOptimizer(learning_rate=0.05).minimize(loss)\n",
    "\n",
    "with tf.Session() as session:\n",
    "    session.run(tf.global_variables_initializer())\n",
    "    print(\"starting at [m,b]=\"+str(session.run([m,b])))\n",
    "    \n",
    "    for ctr in range(CTR):  \n",
    "        session.run(optimizer)\n",
    "        print(\"ctr=\"+str(ctr)+\"; [m,b]=\"+str(session.run([m,b])))\n",
    "        \n",
    "session.close()"
   ]
  },
  {
   "cell_type": "markdown",
   "metadata": {},
   "source": [
    "### Better way of doing things (by P. Coric)  ###\n",
    "Comments: session.run(optimizer) is run every time that a datapoint is added\n",
    "This means that the data is repeated CTR_MAX times, so session.run(optimizer) is invoked len(data)*CTR_MAX times."
   ]
  },
  {
   "cell_type": "code",
   "execution_count": 6,
   "metadata": {},
   "outputs": [],
   "source": [
    "#Create placeholders for TensorFlow X and Y\n",
    "X = tf.placeholder(tf.float32, name=\"X\") \n",
    "Y = tf.placeholder(tf.float32, name=\"Y\")"
   ]
  },
  {
   "cell_type": "code",
   "execution_count": 7,
   "metadata": {},
   "outputs": [],
   "source": [
    "#Create slope and bias\n",
    "# Step 3: create weight and bias, initialized to 0 \n",
    "m = tf.Variable(0.0, name=\"slope\") \n",
    "b = tf.Variable(0.0, name=\"offset\") "
   ]
  },
  {
   "cell_type": "code",
   "execution_count": 8,
   "metadata": {},
   "outputs": [],
   "source": [
    "#Create prediction model\n",
    "Y_predicted = X * m + b"
   ]
  },
  {
   "cell_type": "code",
   "execution_count": 9,
   "metadata": {},
   "outputs": [],
   "source": [
    "#Create loss function, used mse\n",
    "loss = tf.square(Y - Y_predicted, name=\"loss\") "
   ]
  },
  {
   "cell_type": "code",
   "execution_count": 10,
   "metadata": {},
   "outputs": [],
   "source": [
    "#Create Optimizer Function\n",
    "optimizer = tf.train.GradientDescentOptimizer(learning_rate=0.01).minimize(loss) "
   ]
  },
  {
   "cell_type": "code",
   "execution_count": 11,
   "metadata": {},
   "outputs": [
    {
     "name": "stdout",
     "output_type": "stream",
     "text": [
      "ctr=0; n=0; total iterations=0; Current estimates=[0.23696232, 0.1343284]\n",
      "ctr=0; n=1; total iterations=1; Current estimates=[0.26446423, 0.20305616]\n",
      "ctr=0; n=2; total iterations=2; Current estimates=[0.34997717, 0.29042676]\n",
      "ctr=0; n=3; total iterations=3; Current estimates=[0.64147425, 0.42050752]\n",
      "ctr=0; n=4; total iterations=4; Current estimates=[0.8282041, 0.5204936]\n",
      "ctr=0; n=5; total iterations=5; Current estimates=[0.7983248, 0.5510676]\n",
      "ctr=0; n=6; total iterations=6; Current estimates=[0.8657672, 0.62205297]\n",
      "ctr=0; n=7; total iterations=7; Current estimates=[0.85931474, 0.6646835]\n",
      "ctr=0; n=8; total iterations=8; Current estimates=[0.85433984, 0.7128809]\n",
      "ctr=0; n=9; total iterations=9; Current estimates=[0.87820035, 0.77099246]\n",
      "ctr=0; n=10; total iterations=10; Current estimates=[0.88562536, 0.8225395]\n",
      "ctr=0; n=11; total iterations=11; Current estimates=[0.99872917, 0.9003129]\n",
      "ctr=0; n=12; total iterations=12; Current estimates=[1.0409755, 0.95582426]\n",
      "ctr=0; n=13; total iterations=13; Current estimates=[1.0466987, 1.0028617]\n",
      "ctr=0; n=14; total iterations=14; Current estimates=[1.0679462, 1.0507312]\n",
      "ctr=0; n=15; total iterations=15; Current estimates=[1.0835656, 1.0975416]\n",
      "ctr=0; n=16; total iterations=16; Current estimates=[1.1841593, 1.1648698]\n",
      "ctr=0; n=17; total iterations=17; Current estimates=[1.1773798, 1.1979148]\n",
      "ctr=0; n=18; total iterations=18; Current estimates=[1.1906604, 1.2403355]\n",
      "ctr=0; n=19; total iterations=19; Current estimates=[1.1708345, 1.2635481]\n",
      "ctr=0; n=20; total iterations=20; Current estimates=[1.1883357, 1.256693]\n",
      "ctr=0; n=21; total iterations=21; Current estimates=[1.2166228, 1.2999707]\n",
      "ctr=0; n=22; total iterations=22; Current estimates=[1.2582374, 1.3481114]\n",
      "ctr=0; n=23; total iterations=23; Current estimates=[1.2399205, 1.3727918]\n",
      "ctr=0; n=24; total iterations=24; Current estimates=[1.3889501, 1.4384507]\n",
      "ctr=0; n=25; total iterations=25; Current estimates=[1.3698137, 1.4516087]\n",
      "ctr=0; n=26; total iterations=26; Current estimates=[1.3712173, 1.4822829]\n",
      "ctr=0; n=27; total iterations=27; Current estimates=[1.3652837, 1.5139818]\n",
      "ctr=0; n=28; total iterations=28; Current estimates=[1.4427236, 1.5645044]\n",
      "ctr=0; n=29; total iterations=29; Current estimates=[1.5101695, 1.610406]\n",
      "ctr=0; n=30; total iterations=30; Current estimates=[1.5144724, 1.6381761]\n",
      "ctr=0; n=31; total iterations=31; Current estimates=[1.5265687, 1.6701633]\n",
      "ctr=0; n=32; total iterations=32; Current estimates=[1.5116166, 1.6870053]\n",
      "ctr=0; n=33; total iterations=33; Current estimates=[1.4977989, 1.693981]\n",
      "ctr=0; n=34; total iterations=34; Current estimates=[1.4903696, 1.7153352]\n",
      "ctr=0; n=35; total iterations=35; Current estimates=[1.4948473, 1.743975]\n",
      "ctr=0; n=36; total iterations=36; Current estimates=[1.5424637, 1.7826784]\n",
      "ctr=0; n=37; total iterations=37; Current estimates=[1.5844657, 1.8176109]\n",
      "ctr=0; n=38; total iterations=38; Current estimates=[1.5762464, 1.8388317]\n",
      "ctr=0; n=39; total iterations=39; Current estimates=[1.5706613, 1.8573068]\n",
      "ctr=0; n=40; total iterations=40; Current estimates=[1.559266, 1.8681746]\n",
      "ctr=0; n=41; total iterations=41; Current estimates=[1.5436482, 1.8791728]\n",
      "ctr=0; n=42; total iterations=42; Current estimates=[1.5314028, 1.8863496]\n",
      "ctr=0; n=43; total iterations=43; Current estimates=[1.6129953, 1.9281752]\n",
      "ctr=0; n=44; total iterations=44; Current estimates=[1.6016514, 1.9504333]\n",
      "ctr=0; n=45; total iterations=45; Current estimates=[1.593157, 1.9698235]\n",
      "ctr=0; n=46; total iterations=46; Current estimates=[1.582403, 1.9784075]\n",
      "ctr=0; n=47; total iterations=47; Current estimates=[1.6050742, 2.007567]\n",
      "ctr=0; n=48; total iterations=48; Current estimates=[1.5978609, 2.0120363]\n",
      "ctr=0; n=49; total iterations=49; Current estimates=[1.5942178, 2.0291615]\n",
      "ctr=0; n=50; total iterations=50; Current estimates=[1.5834606, 2.0411744]\n",
      "ctr=0; n=51; total iterations=51; Current estimates=[1.5934528, 2.0670009]\n",
      "ctr=0; n=52; total iterations=52; Current estimates=[1.5868036, 2.080018]\n",
      "ctr=0; n=53; total iterations=53; Current estimates=[1.5785508, 2.0870082]\n",
      "ctr=0; n=54; total iterations=54; Current estimates=[1.5780485, 2.1048336]\n",
      "ctr=0; n=55; total iterations=55; Current estimates=[1.586697, 2.1250248]\n",
      "ctr=0; n=56; total iterations=56; Current estimates=[1.5880475, 2.1453273]\n",
      "ctr=0; n=57; total iterations=57; Current estimates=[1.5933182, 2.162753]\n",
      "ctr=0; n=58; total iterations=58; Current estimates=[1.587425, 2.1720438]\n",
      "ctr=0; n=59; total iterations=59; Current estimates=[1.5828217, 2.184734]\n",
      "ctr=0; n=60; total iterations=60; Current estimates=[1.5762999, 2.1944327]\n",
      "ctr=0; n=61; total iterations=61; Current estimates=[1.570215, 2.2113564]\n",
      "ctr=0; n=62; total iterations=62; Current estimates=[1.5615288, 2.2220385]\n",
      "ctr=0; n=63; total iterations=63; Current estimates=[1.5605003, 2.2226343]\n",
      "ctr=0; n=64; total iterations=64; Current estimates=[1.5631006, 2.2372904]\n",
      "ctr=0; n=65; total iterations=65; Current estimates=[1.5577037, 2.2507226]\n",
      "ctr=0; n=66; total iterations=66; Current estimates=[1.5600439, 2.2492871]\n",
      "ctr=0; n=67; total iterations=67; Current estimates=[1.567447, 2.2652838]\n",
      "ctr=0; n=68; total iterations=68; Current estimates=[1.5590805, 2.2745051]\n",
      "ctr=0; n=69; total iterations=69; Current estimates=[1.559891, 2.290107]\n",
      "ctr=0; n=70; total iterations=70; Current estimates=[1.5762643, 2.3125641]\n",
      "ctr=0; n=71; total iterations=71; Current estimates=[1.5782608, 2.3280435]\n",
      "ctr=0; n=72; total iterations=72; Current estimates=[1.6064762, 2.3528068]\n",
      "ctr=0; n=73; total iterations=73; Current estimates=[1.6041014, 2.35473]\n",
      "ctr=0; n=74; total iterations=74; Current estimates=[1.6097434, 2.3687525]\n",
      "ctr=0; n=75; total iterations=75; Current estimates=[1.6038245, 2.3773956]\n",
      "ctr=0; n=76; total iterations=76; Current estimates=[1.6003888, 2.3813412]\n",
      "ctr=0; n=77; total iterations=77; Current estimates=[1.5967028, 2.387709]\n",
      "ctr=0; n=78; total iterations=78; Current estimates=[1.5939543, 2.3965306]\n",
      "ctr=0; n=79; total iterations=79; Current estimates=[1.5946598, 2.409091]\n",
      "ctr=0; n=80; total iterations=80; Current estimates=[1.5927204, 2.4107556]\n",
      "ctr=0; n=81; total iterations=81; Current estimates=[1.6074694, 2.4271283]\n",
      "ctr=0; n=82; total iterations=82; Current estimates=[1.6139077, 2.4409542]\n",
      "ctr=0; n=83; total iterations=83; Current estimates=[1.6217864, 2.4358256]\n",
      "ctr=0; n=84; total iterations=84; Current estimates=[1.6571941, 2.4596171]\n",
      "ctr=0; n=85; total iterations=85; Current estimates=[1.6962532, 2.4802191]\n",
      "ctr=0; n=86; total iterations=86; Current estimates=[1.714345, 2.495567]\n",
      "ctr=0; n=87; total iterations=87; Current estimates=[1.712696, 2.5047321]\n",
      "ctr=0; n=88; total iterations=88; Current estimates=[1.7102615, 2.5070057]\n",
      "ctr=0; n=89; total iterations=89; Current estimates=[1.7303554, 2.526062]\n",
      "ctr=0; n=90; total iterations=90; Current estimates=[1.7284529, 2.5307808]\n",
      "ctr=0; n=91; total iterations=91; Current estimates=[1.7486936, 2.5473382]\n",
      "ctr=0; n=92; total iterations=92; Current estimates=[1.7507808, 2.5573597]\n",
      "ctr=0; n=93; total iterations=93; Current estimates=[1.7618995, 2.5687442]\n",
      "ctr=0; n=94; total iterations=94; Current estimates=[1.7659509, 2.580113]\n",
      "ctr=0; n=95; total iterations=95; Current estimates=[1.7739791, 2.591475]\n",
      "ctr=0; n=96; total iterations=96; Current estimates=[1.7740816, 2.6012366]\n",
      "ctr=0; n=97; total iterations=97; Current estimates=[1.8056763, 2.618928]\n",
      "ctr=0; n=98; total iterations=98; Current estimates=[1.8072553, 2.631369]\n",
      "ctr=0; n=99; total iterations=99; Current estimates=[1.8119165, 2.6429644]\n",
      "ctr=1; n=0; total iterations=100; Current estimates=[1.8428628, 2.6605072]\n",
      "ctr=1; n=1; total iterations=101; Current estimates=[1.8450044, 2.6658592]\n",
      "ctr=1; n=2; total iterations=102; Current estimates=[1.8520277, 2.6730351]\n",
      "ctr=1; n=3; total iterations=103; Current estimates=[1.8858874, 2.6881452]\n",
      "ctr=1; n=4; total iterations=104; Current estimates=[1.9011137, 2.6962984]\n",
      "ctr=1; n=5; total iterations=105; Current estimates=[1.8932676, 2.7043269]\n",
      "ctr=1; n=6; total iterations=106; Current estimates=[1.9000269, 2.7114413]\n",
      "ctr=1; n=7; total iterations=107; Current estimates=[1.8994255, 2.715415]\n",
      "ctr=1; n=8; total iterations=108; Current estimates=[1.8984625, 2.724745]\n",
      "ctr=1; n=9; total iterations=109; Current estimates=[1.902281, 2.734045]\n",
      "ctr=1; n=10; total iterations=110; Current estimates=[1.9036258, 2.7433808]\n",
      "ctr=1; n=11; total iterations=111; Current estimates=[1.9178015, 2.7531283]\n",
      "ctr=1; n=12; total iterations=112; Current estimates=[1.9212004, 2.7575943]\n",
      "ctr=1; n=13; total iterations=113; Current estimates=[1.9222784, 2.7664545]\n",
      "ctr=1; n=14; total iterations=114; Current estimates=[1.92442, 2.7712793]\n",
      "ctr=1; n=15; total iterations=115; Current estimates=[1.9266502, 2.7779632]\n",
      "ctr=1; n=16; total iterations=116; Current estimates=[1.9393903, 2.7864902]\n",
      "ctr=1; n=17; total iterations=117; Current estimates=[1.9386289, 2.7902017]\n",
      "ctr=1; n=18; total iterations=118; Current estimates=[1.9404473, 2.79601]\n",
      "ctr=1; n=19; total iterations=119; Current estimates=[1.9362563, 2.800917]\n",
      "ctr=1; n=20; total iterations=120; Current estimates=[1.9324784, 2.8023968]\n",
      "ctr=1; n=21; total iterations=121; Current estimates=[1.9342014, 2.8050327]\n",
      "ctr=1; n=22; total iterations=122; Current estimates=[1.939071, 2.810666]\n",
      "ctr=1; n=23; total iterations=123; Current estimates=[1.9349631, 2.8162012]\n",
      "ctr=1; n=24; total iterations=124; Current estimates=[1.9468548, 2.8214405]\n",
      "ctr=1; n=25; total iterations=125; Current estimates=[1.9443445, 2.8231666]\n",
      "ctr=1; n=26; total iterations=126; Current estimates=[1.9444689, 2.8258839]\n",
      "ctr=1; n=27; total iterations=127; Current estimates=[1.9431636, 2.832857]\n",
      "ctr=1; n=28; total iterations=128; Current estimates=[1.9530191, 2.8392868]\n",
      "ctr=1; n=29; total iterations=129; Current estimates=[1.9609681, 2.8446965]\n",
      "ctr=1; n=30; total iterations=130; Current estimates=[1.9612296, 2.8463838]\n",
      "ctr=1; n=31; total iterations=131; Current estimates=[1.9629102, 2.850828]\n",
      "ctr=1; n=32; total iterations=132; Current estimates=[1.9620435, 2.8518043]\n",
      "ctr=1; n=33; total iterations=133; Current estimates=[1.959025, 2.8533282]\n",
      "ctr=1; n=34; total iterations=134; Current estimates=[1.958546, 2.8547049]\n",
      "ctr=1; n=35; total iterations=135; Current estimates=[1.9592322, 2.8590932]\n",
      "ctr=1; n=36; total iterations=136; Current estimates=[1.9653522, 2.8640676]\n"
     ]
    },
    {
     "name": "stdout",
     "output_type": "stream",
     "text": [
      "ctr=1; n=37; total iterations=137; Current estimates=[1.9691219, 2.8672028]\n",
      "ctr=1; n=38; total iterations=138; Current estimates=[1.967879, 2.8704114]\n",
      "ctr=1; n=39; total iterations=139; Current estimates=[1.9678152, 2.8706229]\n",
      "ctr=1; n=40; total iterations=140; Current estimates=[1.968937, 2.8695529]\n",
      "ctr=1; n=41; total iterations=141; Current estimates=[1.9652371, 2.8721583]\n",
      "ctr=1; n=42; total iterations=142; Current estimates=[1.9623299, 2.8738623]\n",
      "ctr=1; n=43; total iterations=143; Current estimates=[1.9725959, 2.8791249]\n",
      "ctr=1; n=44; total iterations=144; Current estimates=[1.9690771, 2.8860292]\n",
      "ctr=1; n=45; total iterations=145; Current estimates=[1.9673698, 2.8899267]\n",
      "ctr=1; n=46; total iterations=146; Current estimates=[1.9679233, 2.889485]\n",
      "ctr=1; n=47; total iterations=147; Current estimates=[1.9717665, 2.894428]\n",
      "ctr=1; n=48; total iterations=148; Current estimates=[1.9740771, 2.8929963]\n",
      "ctr=1; n=49; total iterations=149; Current estimates=[1.9738417, 2.8941028]\n",
      "ctr=1; n=50; total iterations=150; Current estimates=[1.9724869, 2.8956158]\n",
      "ctr=1; n=51; total iterations=151; Current estimates=[1.9747027, 2.901343]\n",
      "ctr=1; n=52; total iterations=152; Current estimates=[1.9745877, 2.9015684]\n",
      "ctr=1; n=53; total iterations=153; Current estimates=[1.9749234, 2.9012842]\n",
      "ctr=1; n=54; total iterations=154; Current estimates=[1.9748737, 2.9030476]\n",
      "ctr=1; n=55; total iterations=155; Current estimates=[1.9752281, 2.9038749]\n",
      "ctr=1; n=56; total iterations=156; Current estimates=[1.975508, 2.9080837]\n",
      "ctr=1; n=57; total iterations=157; Current estimates=[1.9754555, 2.9079103]\n",
      "ctr=1; n=58; total iterations=158; Current estimates=[1.9759405, 2.9071457]\n",
      "ctr=1; n=59; total iterations=159; Current estimates=[1.9756478, 2.9079525]\n",
      "ctr=1; n=60; total iterations=160; Current estimates=[1.9753, 2.90847]\n",
      "ctr=1; n=61; total iterations=161; Current estimates=[1.9733181, 2.913982]\n",
      "ctr=1; n=62; total iterations=162; Current estimates=[1.970728, 2.9171672]\n",
      "ctr=1; n=63; total iterations=163; Current estimates=[1.9693105, 2.9179883]\n",
      "ctr=1; n=64; total iterations=164; Current estimates=[1.9691861, 2.9172866]\n",
      "ctr=1; n=65; total iterations=165; Current estimates=[1.9679424, 2.920382]\n",
      "ctr=1; n=66; total iterations=166; Current estimates=[1.9703115, 2.9189289]\n",
      "ctr=1; n=67; total iterations=167; Current estimates=[1.9697592, 2.9177356]\n",
      "ctr=1; n=68; total iterations=168; Current estimates=[1.9666085, 2.9212081]\n",
      "ctr=1; n=69; total iterations=169; Current estimates=[1.9667251, 2.9234526]\n",
      "ctr=1; n=70; total iterations=170; Current estimates=[1.9695379, 2.9273105]\n",
      "ctr=1; n=71; total iterations=171; Current estimates=[1.9698178, 2.9294803]\n",
      "ctr=1; n=72; total iterations=172; Current estimates=[1.974161, 2.9332922]\n",
      "ctr=1; n=73; total iterations=173; Current estimates=[1.9749093, 2.932686]\n",
      "ctr=1; n=74; total iterations=174; Current estimates=[1.9747, 2.9321659]\n",
      "ctr=1; n=75; total iterations=175; Current estimates=[1.9730747, 2.9345393]\n",
      "ctr=1; n=76; total iterations=176; Current estimates=[1.9737421, 2.9337728]\n",
      "ctr=1; n=77; total iterations=177; Current estimates=[1.9739497, 2.9334142]\n",
      "ctr=1; n=78; total iterations=178; Current estimates=[1.9738692, 2.9336727]\n",
      "ctr=1; n=79; total iterations=179; Current estimates=[1.9739473, 2.9350636]\n",
      "ctr=1; n=80; total iterations=180; Current estimates=[1.9739664, 2.9350471]\n",
      "ctr=1; n=81; total iterations=181; Current estimates=[1.973082, 2.9340653]\n",
      "ctr=1; n=82; total iterations=182; Current estimates=[1.9732133, 2.9343474]\n",
      "ctr=1; n=83; total iterations=183; Current estimates=[1.9792919, 2.9303906]\n",
      "ctr=1; n=84; total iterations=184; Current estimates=[1.9841422, 2.9336495]\n",
      "ctr=1; n=85; total iterations=185; Current estimates=[1.9817234, 2.9323738]\n",
      "ctr=1; n=86; total iterations=186; Current estimates=[1.981222, 2.9319484]\n",
      "ctr=1; n=87; total iterations=187; Current estimates=[1.9809705, 2.9333463]\n",
      "ctr=1; n=88; total iterations=188; Current estimates=[1.9815632, 2.9327927]\n",
      "ctr=1; n=89; total iterations=189; Current estimates=[1.9866446, 2.9376116]\n",
      "ctr=1; n=90; total iterations=190; Current estimates=[1.9872274, 2.936166]\n",
      "ctr=1; n=91; total iterations=191; Current estimates=[1.9898227, 2.9382892]\n",
      "ctr=1; n=92; total iterations=192; Current estimates=[1.9900723, 2.9394872]\n",
      "ctr=1; n=93; total iterations=193; Current estimates=[1.989162, 2.9385552]\n",
      "ctr=1; n=94; total iterations=194; Current estimates=[1.9900004, 2.940908]\n",
      "ctr=1; n=95; total iterations=195; Current estimates=[1.9906929, 2.941888]\n",
      "ctr=1; n=96; total iterations=196; Current estimates=[1.9907213, 2.9445958]\n",
      "ctr=1; n=97; total iterations=197; Current estimates=[1.9962335, 2.9476824]\n",
      "ctr=1; n=98; total iterations=198; Current estimates=[1.9969165, 2.9530647]\n",
      "ctr=1; n=99; total iterations=199; Current estimates=[1.9983784, 2.9567013]\n"
     ]
    }
   ],
   "source": [
    "CTR_MAX=2\n",
    "#Start Session\n",
    "with tf.Session() as session: \n",
    "    # Step 7: initialize the necessary variables, in this case, w and b \n",
    "    session.run(tf.global_variables_initializer())  \n",
    " \n",
    "    #Train the Model \n",
    "    N_data=len(data)\n",
    "    for ctr in range(CTR_MAX): # run 100 epochs \n",
    "        for n,(x,y) in enumerate(data): # Session runs train_op to minimize loss \n",
    "            session.run(optimizer, feed_dict={X: x, Y:y})\n",
    "            print(\"ctr=\"+str(ctr)+\"; n=\"+str(n)+\"; total iterations=\"+\n",
    "                  str(ctr*N_data+n)+\"; Current estimates=\"+str(session.run([m,b])))\n",
    "session.close()"
   ]
  },
  {
   "cell_type": "markdown",
   "metadata": {},
   "source": [
    "### use tf.estimator.LinearRegressor ###\n",
    "knowing that the result is a line y=mx+b, we know to points\n",
    "* (0,b)=(0,3)\n",
    "* (1,m+b)=(1,5)"
   ]
  },
  {
   "cell_type": "code",
   "execution_count": 37,
   "metadata": {},
   "outputs": [
    {
     "name": "stdout",
     "output_type": "stream",
     "text": [
      "INFO:tensorflow:Using default config.\n",
      "WARNING:tensorflow:Using temporary folder as model directory: C:\\Users\\richa\\AppData\\Local\\Temp\\tmpcuoqeq9_\n",
      "INFO:tensorflow:Using config: {'_model_dir': 'C:\\\\Users\\\\richa\\\\AppData\\\\Local\\\\Temp\\\\tmpcuoqeq9_', '_tf_random_seed': None, '_save_summary_steps': 100, '_save_checkpoints_steps': None, '_save_checkpoints_secs': 600, '_session_config': None, '_keep_checkpoint_max': 5, '_keep_checkpoint_every_n_hours': 10000, '_log_step_count_steps': 100, '_train_distribute': None, '_service': None, '_cluster_spec': <tensorflow.python.training.server_lib.ClusterSpec object at 0x000001E4B063B780>, '_task_type': 'worker', '_task_id': 0, '_global_id_in_cluster': 0, '_master': '', '_evaluation_master': '', '_is_chief': True, '_num_ps_replicas': 0, '_num_worker_replicas': 1}\n",
      "INFO:tensorflow:Calling model_fn.\n",
      "INFO:tensorflow:Done calling model_fn.\n",
      "INFO:tensorflow:Create CheckpointSaverHook.\n",
      "INFO:tensorflow:Graph was finalized.\n",
      "INFO:tensorflow:Running local_init_op.\n",
      "INFO:tensorflow:Done running local_init_op.\n",
      "INFO:tensorflow:Saving checkpoints for 1 into C:\\Users\\richa\\AppData\\Local\\Temp\\tmpcuoqeq9_\\model.ckpt.\n",
      "INFO:tensorflow:loss = 1918.0748, step = 1\n",
      "INFO:tensorflow:global_step/sec: 432.388\n",
      "INFO:tensorflow:loss = 29.64502, step = 101 (0.243 sec)\n",
      "INFO:tensorflow:global_step/sec: 517.19\n",
      "INFO:tensorflow:loss = 3.0319526, step = 201 (0.178 sec)\n",
      "INFO:tensorflow:global_step/sec: 559.356\n",
      "INFO:tensorflow:loss = 1.5616956, step = 301 (0.183 sec)\n",
      "INFO:tensorflow:global_step/sec: 592.029\n",
      "INFO:tensorflow:loss = 1.4540739, step = 401 (0.165 sec)\n",
      "INFO:tensorflow:global_step/sec: 532.324\n",
      "INFO:tensorflow:loss = 1.4418509, step = 501 (0.191 sec)\n",
      "INFO:tensorflow:global_step/sec: 659.167\n",
      "INFO:tensorflow:loss = 1.4396977, step = 601 (0.149 sec)\n",
      "INFO:tensorflow:global_step/sec: 599.089\n",
      "INFO:tensorflow:loss = 1.4392302, step = 701 (0.166 sec)\n",
      "INFO:tensorflow:global_step/sec: 559.237\n",
      "INFO:tensorflow:loss = 1.4391227, step = 801 (0.179 sec)\n",
      "INFO:tensorflow:global_step/sec: 620.889\n",
      "INFO:tensorflow:loss = 1.439096, step = 901 (0.161 sec)\n",
      "INFO:tensorflow:global_step/sec: 582.241\n",
      "INFO:tensorflow:loss = 1.4390898, step = 1001 (0.189 sec)\n",
      "INFO:tensorflow:global_step/sec: 565.825\n",
      "INFO:tensorflow:loss = 1.4390882, step = 1101 (0.159 sec)\n",
      "INFO:tensorflow:global_step/sec: 592.664\n",
      "INFO:tensorflow:loss = 1.4390872, step = 1201 (0.169 sec)\n",
      "INFO:tensorflow:global_step/sec: 597.12\n",
      "INFO:tensorflow:loss = 1.4390872, step = 1301 (0.167 sec)\n",
      "INFO:tensorflow:global_step/sec: 639.442\n",
      "INFO:tensorflow:loss = 1.439087, step = 1401 (0.156 sec)\n",
      "INFO:tensorflow:global_step/sec: 661.529\n",
      "INFO:tensorflow:loss = 1.4390864, step = 1501 (0.151 sec)\n",
      "INFO:tensorflow:global_step/sec: 452.935\n",
      "INFO:tensorflow:loss = 1.4390872, step = 1601 (0.226 sec)\n",
      "INFO:tensorflow:global_step/sec: 616.286\n",
      "INFO:tensorflow:loss = 1.4390862, step = 1701 (0.157 sec)\n",
      "INFO:tensorflow:global_step/sec: 594.102\n",
      "INFO:tensorflow:loss = 1.439087, step = 1801 (0.168 sec)\n",
      "INFO:tensorflow:global_step/sec: 604.714\n",
      "INFO:tensorflow:loss = 1.439087, step = 1901 (0.165 sec)\n",
      "INFO:tensorflow:global_step/sec: 678.955\n",
      "INFO:tensorflow:loss = 1.439087, step = 2001 (0.147 sec)\n",
      "INFO:tensorflow:global_step/sec: 544.121\n",
      "INFO:tensorflow:loss = 1.4390872, step = 2101 (0.201 sec)\n",
      "INFO:tensorflow:global_step/sec: 597.187\n",
      "INFO:tensorflow:loss = 1.439087, step = 2201 (0.152 sec)\n",
      "INFO:tensorflow:global_step/sec: 574.651\n",
      "INFO:tensorflow:loss = 1.439087, step = 2301 (0.172 sec)\n",
      "INFO:tensorflow:global_step/sec: 598.371\n",
      "INFO:tensorflow:loss = 1.439087, step = 2401 (0.167 sec)\n",
      "INFO:tensorflow:Saving checkpoints for 2500 into C:\\Users\\richa\\AppData\\Local\\Temp\\tmpcuoqeq9_\\model.ckpt.\n",
      "INFO:tensorflow:Loss for final step: 1.3542519.\n"
     ]
    },
    {
     "data": {
      "text/plain": [
       "<tensorflow.python.estimator.canned.linear.LinearRegressor at 0x1e4b063b048>"
      ]
     },
     "execution_count": 37,
     "metadata": {},
     "output_type": "execute_result"
    }
   ],
   "source": [
    "N_steps=2500\n",
    "# Create feature column and estimator\n",
    "x_data =  tf.feature_column.numeric_column('x')\n",
    "regressor = tf.estimator.LinearRegressor(feature_columns=[x_data])\n",
    "# Train the estimator\n",
    "train_input = tf.estimator.inputs.numpy_input_fn(\n",
    "    x={\"x\": numpy.array(xvals)},\n",
    "    y=numpy.array(yvals),\n",
    "    shuffle=False,\n",
    "    num_epochs=None)\n",
    "\n",
    "regressor.train(train_input,steps=N_steps) ###Edited here"
   ]
  },
  {
   "cell_type": "code",
   "execution_count": 38,
   "metadata": {},
   "outputs": [
    {
     "name": "stdout",
     "output_type": "stream",
     "text": [
      "INFO:tensorflow:Calling model_fn.\n",
      "INFO:tensorflow:Done calling model_fn.\n",
      "INFO:tensorflow:Graph was finalized.\n",
      "INFO:tensorflow:Restoring parameters from C:\\Users\\richa\\AppData\\Local\\Temp\\tmpcuoqeq9_\\model.ckpt-2500\n",
      "INFO:tensorflow:Running local_init_op.\n",
      "INFO:tensorflow:Done running local_init_op.\n",
      "[{'predictions': array([3.0074613], dtype=float32)}, {'predictions': array([5.01898], dtype=float32)}]\n"
     ]
    }
   ],
   "source": [
    "predict_input = tf.estimator.inputs.numpy_input_fn(\n",
    "     x={\"x\": numpy.array([0,1], dtype=numpy.float32)},\n",
    "     num_epochs=1, shuffle=False)\n",
    "results = regressor.predict(predict_input)\n",
    "print(list(results))"
   ]
  },
  {
   "cell_type": "code",
   "execution_count": null,
   "metadata": {},
   "outputs": [],
   "source": []
  }
 ],
 "metadata": {
  "kernelspec": {
   "display_name": "Python 3",
   "language": "python",
   "name": "python3"
  },
  "language_info": {
   "codemirror_mode": {
    "name": "ipython",
    "version": 3
   },
   "file_extension": ".py",
   "mimetype": "text/x-python",
   "name": "python",
   "nbconvert_exporter": "python",
   "pygments_lexer": "ipython3",
   "version": "3.6.5"
  }
 },
 "nbformat": 4,
 "nbformat_minor": 1
}
