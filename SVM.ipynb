{
 "cells": [
  {
   "cell_type": "markdown",
   "metadata": {},
   "source": [
    "## SVM ##\n",
    "Richard Sowers 2018-05-24\n",
    "\n",
    "Copyright 2018 University of Illinois Board of Trustees. All Rights Reserved. Licensed under the MIT license"
   ]
  },
  {
   "cell_type": "code",
   "execution_count": 1,
   "metadata": {},
   "outputs": [],
   "source": [
    "import numpy\n",
    "%matplotlib inline\n",
    "#%matplotlib notebook\n",
    "import matplotlib.pyplot as plt\n",
    "import scipy.optimize"
   ]
  },
  {
   "cell_type": "code",
   "execution_count": 2,
   "metadata": {},
   "outputs": [],
   "source": [
    "numpy.random.seed(0)\n",
    "N=50\n",
    "def classifier(point):\n",
    "    (x,y)=point\n",
    "    return 1 if 2*x+y>1 else -1"
   ]
  },
  {
   "cell_type": "code",
   "execution_count": 3,
   "metadata": {},
   "outputs": [
    {
     "name": "stdout",
     "output_type": "stream",
     "text": [
      "[((1.764052345967664, 0.4001572083672233), 1), ((0.9787379841057392, 2.240893199201458), 1), ((1.8675579901499675, -0.977277879876411), 1), ((0.9500884175255894, -0.1513572082976979), 1), ((-0.10321885179355784, 0.41059850193837233), -1), ((0.144043571160878, 1.454273506962975), 1), ((0.7610377251469934, 0.12167501649282841), 1), ((0.44386323274542566, 0.33367432737426683), 1), ((1.4940790731576061, -0.20515826376580087), 1), ((0.31306770165090136, -0.8540957393017248), -1)]\n"
     ]
    }
   ],
   "source": [
    "points=numpy.random.normal(size=[N,2])\n",
    "data=[((x,y),classifier((x,y))) for (x,y) in points]\n",
    "print(data[:10])"
   ]
  },
  {
   "cell_type": "code",
   "execution_count": 4,
   "metadata": {},
   "outputs": [],
   "source": [
    "red_pts=numpy.array([point for (point,flag) in data if flag==1])\n",
    "green_pts=numpy.array([point for (point,flag) in data if flag==-1])"
   ]
  },
  {
   "cell_type": "code",
   "execution_count": 5,
   "metadata": {},
   "outputs": [
    {
     "data": {
      "image/png": "[encoded data removed]",
      "text/plain": [
       "<Figure size 432x288 with 1 Axes>"
      ]
     },
     "metadata": {},
     "output_type": "display_data"
    }
   ],
   "source": [
    "plt.figure()\n",
    "plt.scatter(red_pts[:,0],red_pts[:,1],color=\"red\",linewidth=2)\n",
    "plt.scatter(green_pts[:,0],green_pts[:,1],color=\"green\",linewidth=2)\n",
    "plt.xlabel(\"x\")\n",
    "plt.ylabel(\"y\")\n",
    "plt.title(\"data\")\n",
    "plt.show()\n",
    "plt.close()"
   ]
  },
  {
   "cell_type": "code",
   "execution_count": 6,
   "metadata": {},
   "outputs": [],
   "source": [
    "class SVM:\n",
    "    def __init__(self,data,penalty=0):\n",
    "        self.points=numpy.array([point for (point,_) in data])\n",
    "        self.flags=numpy.array([flag for (_,flag) in data])\n",
    "        #print(\"points: \"+str(self.points[:10]))\n",
    "        #print(\"flags: \"+str(self.flags[:10]))\n",
    "        self.penalty=penalty\n",
    "        self.ctr=0\n",
    "           \n",
    "    def Err(self,x):\n",
    "        x=numpy.array(x)\n",
    "        (w,b)=(x[:-1],x[-1])\n",
    "        temp=numpy.multiply(self.flags,self.points @ w-b)\n",
    "        temp=numpy.maximum(0,1-temp)\n",
    "        err=numpy.mean(temp)+self.penalty*numpy.dot(w,w)\n",
    "        return err\n",
    "            \n",
    "    def callback(self,x):\n",
    "        print(\"ctr=\"+str(self.ctr)+\"; w=\"+str(x[:-1])+\"; b=\"+str(x[-1])+\"; error=\"+str(self.Err(x)))\n",
    "        self.ctr+=1\n",
    "               \n"
   ]
  },
  {
   "cell_type": "code",
   "execution_count": 7,
   "metadata": {},
   "outputs": [
    {
     "name": "stdout",
     "output_type": "stream",
     "text": [
      "\n",
      "points:\n",
      "[[ 1.76405235  0.40015721]\n",
      " [ 0.97873798  2.2408932 ]\n",
      " [ 1.86755799 -0.97727788]\n",
      " [ 0.95008842 -0.15135721]\n",
      " [-0.10321885  0.4105985 ]\n",
      " [ 0.14404357  1.45427351]\n",
      " [ 0.76103773  0.12167502]\n",
      " [ 0.44386323  0.33367433]\n",
      " [ 1.49407907 -0.20515826]\n",
      " [ 0.3130677  -0.85409574]]\n",
      "\n",
      "flags:\n",
      "[ 1  1  1  1 -1  1  1  1  1 -1]\n",
      "ctr=0; w=[0.34706647 0.23033568]; b=0.962654999054323; error=0.7338214021639635\n",
      "ctr=1; w=[0.14626486 0.11316368]; b=0.7816795185354495; error=0.6913810067798951\n",
      "ctr=2; w=[0.2685944  0.01062399]; b=0.8609179107314628; error=0.6877461991904219\n",
      "ctr=3; w=[0.25316119 0.03722723]; b=0.8647007856363643; error=0.6813498034931011\n",
      "ctr=4; w=[0.21037783 0.07756486]; b=0.8432570056098461; error=0.6724628859272599\n",
      "ctr=5; w=[0.20607661 0.08166984]; b=0.8391213152320066; error=0.6722951009262118\n",
      "ctr=6; w=[0.20107685 0.09120478]; b=0.8460485252422962; error=0.6722422124416125\n",
      "ctr=7; w=[0.20124386 0.08852448]; b=0.8481091856024234; error=0.6721994543857756\n",
      "ctr=8; w=[0.20025987 0.08833362]; b=0.8489998427945997; error=0.6721977950960639\n",
      "ctr=9; w=[0.19991358 0.08840395]; b=0.8493782785769728; error=0.6721976101539618\n",
      "ctr=10; w=[0.19984944 0.08851528]; b=0.8494948489616964; error=0.6721975725737639\n",
      "ctr=11; w=[0.1998566  0.08861405]; b=0.8495343960222846; error=0.6721975608960523\n",
      "ctr=12; w=[0.19986899 0.08862262]; b=0.8495261013243901; error=0.6721975606169291\n",
      "      fun: 0.6721975606169291\n",
      " hess_inv: array([[ 0.42061511,  0.00580047, -0.41654318],\n",
      "       [ 0.00580047,  0.49959088,  0.23038117],\n",
      "       [-0.41654318,  0.23038117,  0.69883799]])\n",
      "      jac: array([-4.43309546e-06,  3.35276127e-07,  0.00000000e+00])\n",
      "  message: 'Optimization terminated successfully.'\n",
      "     nfev: 75\n",
      "      nit: 13\n",
      "     njev: 15\n",
      "   status: 0\n",
      "  success: True\n",
      "        x: array([0.19986899, 0.08862262, 0.8495261 ])\n"
     ]
    }
   ],
   "source": [
    "Reg=SVM(data,penalty=1)\n",
    "print(\"\\npoints:\\n\"+str(Reg.points[:10]))\n",
    "print(\"\\nflags:\\n\"+str(Reg.flags[:10]))\n",
    "\n",
    "out=scipy.optimize.minimize(Reg.Err,[1,1,1],callback=Reg.callback)\n",
    "print(out)\n",
    "#(w,b)=out.x\n",
    "#print(\"estimated (w,b)=\"+str((w,b)))"
   ]
  },
  {
   "cell_type": "markdown",
   "metadata": {},
   "source": [
    "##  Let's guess the scale of some things  ##"
   ]
  },
  {
   "cell_type": "code",
   "execution_count": 8,
   "metadata": {},
   "outputs": [],
   "source": [
    "import numpy.linalg\n",
    "import itertools"
   ]
  },
  {
   "cell_type": "code",
   "execution_count": 9,
   "metadata": {},
   "outputs": [],
   "source": [
    "## compute minimum distance\n",
    "distances=[numpy.linalg.norm(points[n]-points[nn]) for n,nn in itertools.product(range(N),range(N)) if nn>n]"
   ]
  },
  {
   "cell_type": "code",
   "execution_count": 10,
   "metadata": {},
   "outputs": [
    {
     "name": "stdout",
     "output_type": "stream",
     "text": [
      "distance_min: 0.032772344139217896\n",
      "distance_min^2: 0.0010740265403793297\n"
     ]
    }
   ],
   "source": [
    "distance_min=numpy.min(distances)\n",
    "print(\"distance_min: \"+str(distance_min))\n",
    "print(\"distance_min^2: \"+str(distance_min**2))"
   ]
  },
  {
   "cell_type": "code",
   "execution_count": 11,
   "metadata": {},
   "outputs": [
    {
     "name": "stdout",
     "output_type": "stream",
     "text": [
      "ctr=0; w=[1.25141744 0.93884338]; b=0.8999999985098839; error=0.25667068066711685\n",
      "ctr=1; w=[1.77233892 0.87042721]; b=0.6290459411321414; error=0.19744710312017744\n",
      "ctr=2; w=[1.92748556 0.94245824]; b=0.6330775774763274; error=0.18493383010083034\n",
      "ctr=3; w=[3.27886431 1.53738363]; b=1.2666859390607064; error=0.09873756355743807\n",
      "ctr=4; w=[4.48695029 1.99949542]; b=1.8093279755876024; error=0.06644792933596867\n",
      "ctr=5; w=[5.10057305 2.23140797]; b=2.109649784670951; error=0.058242758712930325\n",
      "ctr=6; w=[6.15851437 2.61096867]; b=2.601639837344287; error=0.051549278588179724\n",
      "ctr=7; w=[7.49734002 3.15405929]; b=3.3380190444632176; error=0.04298666139883287\n",
      "ctr=8; w=[8.04970197 3.40508475]; b=3.6884336633206956; error=0.04249693680956631\n",
      "ctr=9; w=[7.96825715 3.3889379 ]; b=3.6723697425322173; error=0.04160341827216666\n",
      "ctr=10; w=[7.01331228 3.20084263]; b=3.304529315329802; error=0.04138432881816339\n",
      "ctr=11; w=[7.44357554 3.26805064]; b=3.445741767823271; error=0.038902080987361726\n",
      "ctr=12; w=[7.44357554 3.26805064]; b=3.4457417686239293; error=0.03890208092289013\n",
      "ctr=13; w=[7.44357554 3.26805063]; b=3.445741763198737; error=0.03890208085773988\n",
      "ctr=14; w=[7.44357532 3.30772137]; b=3.4060702132221907; error=0.03829209932626895\n",
      "ctr=15; w=[7.44357532 3.30655101]; b=3.4072405898901748; error=0.038279793422109104\n",
      "      fun: 0.038279793422109104\n",
      " hess_inv: array([[ 6.95057143e-07,  1.65531615e-06,  3.03440549e-07],\n",
      "       [ 1.65531615e-06,  6.28160139e-02, -6.28090342e-02],\n",
      "       [ 3.03440549e-07, -6.28090342e-02,  6.28101145e-02]])\n",
      "      jac: array([-0.00401057,  0.01051453,  0.01863334])\n",
      "  message: 'Desired error not necessarily achieved due to precision loss.'\n",
      "     nfev: 842\n",
      "      nit: 16\n",
      "     njev: 166\n",
      "   status: 2\n",
      "  success: False\n",
      "        x: array([7.44357532, 3.30655101, 3.40724059])\n"
     ]
    }
   ],
   "source": [
    "## w should be of order distance_min\n",
    "Reg=SVM(data,penalty=0.0001)\n",
    "\n",
    "out=scipy.optimize.minimize(Reg.Err,[1,1,1],callback=Reg.callback)\n",
    "print(out)"
   ]
  },
  {
   "cell_type": "markdown",
   "metadata": {},
   "source": [
    "### let's directly use sklearn.svm ###"
   ]
  },
  {
   "cell_type": "code",
   "execution_count": 12,
   "metadata": {},
   "outputs": [],
   "source": [
    "import sklearn.svm"
   ]
  },
  {
   "cell_type": "code",
   "execution_count": 14,
   "metadata": {},
   "outputs": [
    {
     "name": "stdout",
     "output_type": "stream",
     "text": [
      "[[ 1.76405235  0.40015721]\n",
      " [ 0.97873798  2.2408932 ]\n",
      " [ 1.86755799 -0.97727788]\n",
      " [ 0.95008842 -0.15135721]\n",
      " [-0.10321885  0.4105985 ]\n",
      " [ 0.14404357  1.45427351]\n",
      " [ 0.76103773  0.12167502]\n",
      " [ 0.44386323  0.33367433]\n",
      " [ 1.49407907 -0.20515826]\n",
      " [ 0.3130677  -0.85409574]\n",
      " [-2.55298982  0.6536186 ]\n",
      " [ 0.8644362  -0.74216502]\n",
      " [ 2.26975462 -1.45436567]\n",
      " [ 0.04575852 -0.18718385]\n",
      " [ 1.53277921  1.46935877]\n",
      " [ 0.15494743  0.37816252]\n",
      " [-0.88778575 -1.98079647]\n",
      " [-0.34791215  0.15634897]\n",
      " [ 1.23029068  1.20237985]\n",
      " [-0.38732682 -0.30230275]\n",
      " [-1.04855297 -1.42001794]\n",
      " [-1.70627019  1.9507754 ]\n",
      " [-0.50965218 -0.4380743 ]\n",
      " [-1.25279536  0.77749036]\n",
      " [-1.61389785 -0.21274028]\n",
      " [-0.89546656  0.3869025 ]\n",
      " [-0.51080514 -1.18063218]\n",
      " [-0.02818223  0.42833187]\n",
      " [ 0.06651722  0.3024719 ]\n",
      " [-0.63432209 -0.36274117]\n",
      " [-0.67246045 -0.35955316]\n",
      " [-0.81314628 -1.7262826 ]\n",
      " [ 0.17742614 -0.40178094]\n",
      " [-1.63019835  0.46278226]\n",
      " [-0.90729836  0.0519454 ]\n",
      " [ 0.72909056  0.12898291]\n",
      " [ 1.13940068 -1.23482582]\n",
      " [ 0.40234164 -0.68481009]\n",
      " [-0.87079715 -0.57884966]\n",
      " [-0.31155253  0.05616534]]\n",
      "[1.0, 1.0, 1.0, 1.0, 0.0, 1.0, 1.0, 1.0, 1.0, 0.0, 0.0, 0.0, 1.0, 0.0, 1.0, 0.0, 0.0, 0.0, 1.0, 0.0, 0.0, 0.0, 0.0, 0.0, 0.0, 0.0, 0.0, 0.0, 0.0, 0.0, 0.0, 0.0, 0.0, 0.0, 0.0, 1.0, 1.0, 0.0, 0.0, 0.0]\n"
     ]
    }
   ],
   "source": [
    "points=points\n",
    "classes=[(y+1)/2 for _,y in data]\n",
    "print(points[:40])\n",
    "print(classes[:40])"
   ]
  },
  {
   "cell_type": "code",
   "execution_count": 22,
   "metadata": {},
   "outputs": [
    {
     "data": {
      "text/plain": [
       "LinearSVC(C=1.0, class_weight=None, dual=True, fit_intercept=True,\n",
       "     intercept_scaling=1, loss='squared_hinge', max_iter=1000,\n",
       "     multi_class='ovr', penalty='l2', random_state=None, tol=0.0001,\n",
       "     verbose=0)"
      ]
     },
     "execution_count": 22,
     "metadata": {},
     "output_type": "execute_result"
    }
   ],
   "source": [
    "clf = sklearn.svm.LinearSVC()\n",
    "clf.fit(points,classes)  "
   ]
  },
  {
   "cell_type": "code",
   "execution_count": 26,
   "metadata": {},
   "outputs": [
    {
     "name": "stdout",
     "output_type": "stream",
     "text": [
      "[0.]\n",
      "[1.]\n"
     ]
    }
   ],
   "source": [
    "print(clf.predict([[0, 0]]))\n",
    "print(clf.predict([[1, 0]]))"
   ]
  },
  {
   "cell_type": "code",
   "execution_count": 27,
   "metadata": {},
   "outputs": [
    {
     "name": "stdout",
     "output_type": "stream",
     "text": [
      "[[2.07833089 0.97460841]]\n",
      "[-0.96054531]\n"
     ]
    }
   ],
   "source": [
    "print(clf.coef_)\n",
    "print(clf.intercept_)"
   ]
  },
  {
   "cell_type": "code",
   "execution_count": null,
   "metadata": {},
   "outputs": [],
   "source": []
  }
 ],
 "metadata": {
  "kernelspec": {
   "display_name": "Python 3",
   "language": "python",
   "name": "python3"
  },
  "language_info": {
   "codemirror_mode": {
    "name": "ipython",
    "version": 3
   },
   "file_extension": ".py",
   "mimetype": "text/x-python",
   "name": "python",
   "nbconvert_exporter": "python",
   "pygments_lexer": "ipython3",
   "version": "3.6.5"
  }
 },
 "nbformat": 4,
 "nbformat_minor": 1
}
