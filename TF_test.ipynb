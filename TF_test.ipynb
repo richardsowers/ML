{
 "cells": [
  {
   "cell_type": "markdown",
   "metadata": {},
   "source": [
    "## Tensorflow exploration ##\n",
    "By Richard Sowers\n",
    "* <r-sowers@illinois.edu>\n",
    "* <https://publish.illinois.edu/r-sowers/>\n",
    "\n",
    "Copyright 2019 University of Illinois Board of Trustees. All Rights Reserved.\n",
    "Licensed under the MIT license"
   ]
  },
  {
   "cell_type": "code",
   "execution_count": 1,
   "metadata": {},
   "outputs": [
    {
     "name": "stderr",
     "output_type": "stream",
     "text": [
      "Using TensorFlow backend.\n"
     ]
    }
   ],
   "source": [
    "import keras\n",
    "from keras.models import Sequential\n",
    "from keras.layers import Dense, Activation\n",
    "import numpy\n",
    "import scipy\n",
    "\n",
    "from numpy.random import seed\n",
    "seed(1)\n",
    "from tensorflow import set_random_seed\n",
    "set_random_seed(2)"
   ]
  },
  {
   "cell_type": "markdown",
   "metadata": {},
   "source": [
    "Lets consider a 5-dimensional feature space, and let's make 1000 records.\n",
    "Let's consider a binary classification problem, where the labels are either 0 or 1, and where the features are\n",
    "[1,2,0,0,0]*label+noise"
   ]
  },
  {
   "cell_type": "code",
   "execution_count": 2,
   "metadata": {},
   "outputs": [],
   "source": [
    "N_features=5\n",
    "N_records=1000\n",
    "labels = numpy.random.randint(2, size=(N_records, 1))\n",
    "offset=numpy.array([1,2,0,0,0])\n",
    "data=numpy.outer(labels,offset)+numpy.random.random((N_records, N_features))"
   ]
  },
  {
   "cell_type": "code",
   "execution_count": 3,
   "metadata": {},
   "outputs": [
    {
     "data": {
      "text/plain": [
       "array([[1],\n",
       "       [1],\n",
       "       [0],\n",
       "       [0],\n",
       "       [1],\n",
       "       [1],\n",
       "       [1],\n",
       "       [1],\n",
       "       [1],\n",
       "       [0]])"
      ]
     },
     "execution_count": 3,
     "metadata": {},
     "output_type": "execute_result"
    }
   ],
   "source": [
    "labels[:10]"
   ]
  },
  {
   "cell_type": "code",
   "execution_count": 4,
   "metadata": {},
   "outputs": [
    {
     "data": {
      "text/plain": [
       "array([[1.08748221, 2.22730974, 0.31437662, 0.17476588, 0.60709416],\n",
       "       [1.41358642, 2.81635151, 0.1851304 , 0.70187653, 0.24035562],\n",
       "       [0.57421909, 0.3489876 , 0.0569644 , 0.22881367, 0.66410256],\n",
       "       [0.49725009, 0.51901598, 0.17472015, 0.57071585, 0.99675343],\n",
       "       [1.81683511, 2.59437262, 0.97598907, 0.90156258, 0.59560793],\n",
       "       [1.03242633, 2.0935771 , 0.06537172, 0.45173315, 0.37543483],\n",
       "       [1.97535003, 2.16798329, 0.97278759, 0.76747487, 0.82423784],\n",
       "       [1.63261582, 2.66873277, 0.47688233, 0.01313636, 0.35300609],\n",
       "       [1.4920718 , 2.73009121, 0.46862834, 0.45740492, 0.13766274],\n",
       "       [0.01088873, 0.75827826, 0.31995284, 0.98438345, 0.22023423]])"
      ]
     },
     "execution_count": 4,
     "metadata": {},
     "output_type": "execute_result"
    }
   ],
   "source": [
    "data[:10]"
   ]
  },
  {
   "cell_type": "markdown",
   "metadata": {},
   "source": [
    "Let's try to construct a neural net of the form\n",
    "$X_1=ReLU(M_0X_0+b_0) \\qquad X_2=\\sigma(M_1X_1+b_1)$ where\n",
    "ReLU is as in <https://en.wikipedia.org/wiki/Rectifier_(neural_networks)> and $\\sigma$ is as in <https://en.wikipedia.org/wiki/Sigmoid_function>.\n",
    "Here:\n",
    "* $X_0\\in R^5$ is the feature vector\n",
    "* $M_0\\in R^{32\\times 5}$, $b_0\\in \\R^{32}$, and ReLU is as in <https://en.wikipedia.org/wiki/Rectifier_(neural_networks)>; thus, pointwise, $X_1\\in R^{32}$.\n",
    "* $M_1\\in R^{1\\times 32}$, $b_1\\in R^1$, and $\\sigma$ is as in <https://en.wikipedia.org/wiki/Sigmoid_function>; thus $X_2\\in \\R^1$."
   ]
  },
  {
   "cell_type": "code",
   "execution_count": 5,
   "metadata": {},
   "outputs": [
    {
     "name": "stdout",
     "output_type": "stream",
     "text": [
      "WARNING:tensorflow:From C:\\Users\\richa\\Anaconda3\\lib\\site-packages\\tensorflow\\python\\framework\\op_def_library.py:263: colocate_with (from tensorflow.python.framework.ops) is deprecated and will be removed in a future version.\n",
      "Instructions for updating:\n",
      "Colocations handled automatically by placer.\n"
     ]
    }
   ],
   "source": [
    "model = Sequential()\n",
    "model.add(Dense(32, activation='relu', input_dim=5))\n",
    "model.add(Dense(1, activation='sigmoid'))"
   ]
  },
  {
   "cell_type": "code",
   "execution_count": 6,
   "metadata": {},
   "outputs": [],
   "source": [
    "model.compile(optimizer='rmsprop',\n",
    "              loss='binary_crossentropy',\n",
    "              metrics=['accuracy'])"
   ]
  },
  {
   "cell_type": "code",
   "execution_count": 7,
   "metadata": {},
   "outputs": [
    {
     "name": "stdout",
     "output_type": "stream",
     "text": [
      "WARNING:tensorflow:From C:\\Users\\richa\\Anaconda3\\lib\\site-packages\\tensorflow\\python\\ops\\math_ops.py:3066: to_int32 (from tensorflow.python.ops.math_ops) is deprecated and will be removed in a future version.\n",
      "Instructions for updating:\n",
      "Use tf.cast instead.\n",
      "Epoch 1/5\n",
      "1000/1000 [==============================] - 1s 686us/step - loss: 0.7875 - acc: 0.3800\n",
      "Epoch 2/5\n",
      "1000/1000 [==============================] - 0s 44us/step - loss: 0.5891 - acc: 0.8110\n",
      "Epoch 3/5\n",
      "1000/1000 [==============================] - 0s 69us/step - loss: 0.4643 - acc: 0.9000\n",
      "Epoch 4/5\n",
      "1000/1000 [==============================] - 0s 63us/step - loss: 0.3657 - acc: 0.9520\n",
      "Epoch 5/5\n",
      "1000/1000 [==============================] - 0s 81us/step - loss: 0.2842 - acc: 0.9680\n"
     ]
    },
    {
     "data": {
      "text/plain": [
       "<keras.callbacks.History at 0x15525b19cf8>"
      ]
     },
     "execution_count": 7,
     "metadata": {},
     "output_type": "execute_result"
    }
   ],
   "source": [
    "model.fit(data, labels, epochs=5, batch_size=32)"
   ]
  },
  {
   "cell_type": "markdown",
   "metadata": {},
   "source": [
    "Mathematically, this finds $M_0$, $b_0$, $M_1$ and $b_1$ such that the the loss between $X_2$ and the labels is minimized.  The prediction is $X_1$ itself."
   ]
  },
  {
   "cell_type": "code",
   "execution_count": 8,
   "metadata": {},
   "outputs": [
    {
     "data": {
      "text/plain": [
       "array([[0.8164043],\n",
       "       [0.9024216],\n",
       "       [0.3227055]], dtype=float32)"
      ]
     },
     "execution_count": 8,
     "metadata": {},
     "output_type": "execute_result"
    }
   ],
   "source": [
    "model.predict(data[0:3])"
   ]
  },
  {
   "cell_type": "markdown",
   "metadata": {},
   "source": [
    "Let's check that the weights are of the desired dimensions (matrix multiplication seems to be on the left)"
   ]
  },
  {
   "cell_type": "code",
   "execution_count": 9,
   "metadata": {},
   "outputs": [
    {
     "name": "stdout",
     "output_type": "stream",
     "text": [
      "n=0\n",
      "number of weight matrices:2\n",
      "(5, 32)\n",
      "(32,)\n",
      "\n",
      "\n",
      "n=1\n",
      "number of weight matrices:2\n",
      "(32, 1)\n",
      "(1,)\n",
      "\n",
      "\n"
     ]
    }
   ],
   "source": [
    "for n,layer in enumerate(model.layers):\n",
    "    weights = layer.get_weights()\n",
    "    print(\"n={0:}\".format(n))\n",
    "    print(\"number of weight matrices:{0:}\".format(len(weights)))\n",
    "    for w in weights:\n",
    "        print(w.shape)\n",
    "    print(\"\\n\")"
   ]
  },
  {
   "cell_type": "markdown",
   "metadata": {},
   "source": [
    "save the model"
   ]
  },
  {
   "cell_type": "code",
   "execution_count": 10,
   "metadata": {},
   "outputs": [],
   "source": [
    "model.save(\"TF_test.hd5\")"
   ]
  },
  {
   "cell_type": "code",
   "execution_count": 11,
   "metadata": {},
   "outputs": [],
   "source": [
    "new_model = keras.models.load_model('TF_test.hd5')"
   ]
  },
  {
   "cell_type": "code",
   "execution_count": 12,
   "metadata": {},
   "outputs": [
    {
     "data": {
      "text/plain": [
       "array([[0.8164043],\n",
       "       [0.9024216],\n",
       "       [0.3227055]], dtype=float32)"
      ]
     },
     "execution_count": 12,
     "metadata": {},
     "output_type": "execute_result"
    }
   ],
   "source": [
    "new_model.predict(data[0:3])"
   ]
  },
  {
   "cell_type": "markdown",
   "metadata": {},
   "source": [
    "continue training; https://stackoverflow.com/questions/42666046/loading-a-trained-keras-model-and-continue-training"
   ]
  },
  {
   "cell_type": "code",
   "execution_count": 13,
   "metadata": {},
   "outputs": [
    {
     "name": "stdout",
     "output_type": "stream",
     "text": [
      "Epoch 1/5\n",
      "1000/1000 [==============================] - 1s 613us/step - loss: 0.2212 - acc: 0.9800\n",
      "Epoch 2/5\n",
      "1000/1000 [==============================] - 0s 48us/step - loss: 0.1702 - acc: 0.9860\n",
      "Epoch 3/5\n",
      "1000/1000 [==============================] - 0s 42us/step - loss: 0.1320 - acc: 0.9860\n",
      "Epoch 4/5\n",
      "1000/1000 [==============================] - 0s 49us/step - loss: 0.1040 - acc: 0.9880\n",
      "Epoch 5/5\n",
      "1000/1000 [==============================] - 0s 51us/step - loss: 0.0832 - acc: 0.9910\n"
     ]
    },
    {
     "data": {
      "text/plain": [
       "<keras.callbacks.History at 0x15525bdc860>"
      ]
     },
     "execution_count": 13,
     "metadata": {},
     "output_type": "execute_result"
    }
   ],
   "source": [
    "new_model.fit(data, labels, epochs=5, batch_size=32)"
   ]
  },
  {
   "cell_type": "code",
   "execution_count": null,
   "metadata": {},
   "outputs": [],
   "source": []
  }
 ],
 "metadata": {
  "kernelspec": {
   "display_name": "Python 3",
   "language": "python",
   "name": "python3"
  },
  "language_info": {
   "codemirror_mode": {
    "name": "ipython",
    "version": 3
   },
   "file_extension": ".py",
   "mimetype": "text/x-python",
   "name": "python",
   "nbconvert_exporter": "python",
   "pygments_lexer": "ipython3",
   "version": "3.7.3"
  }
 },
 "nbformat": 4,
 "nbformat_minor": 2
}
