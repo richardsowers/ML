{
 "cells": [
  {
   "cell_type": "markdown",
   "metadata": {},
   "source": [
    "## Example of tensorflow minimization of quadratic ##\n",
    "Richard Sowers"
   ]
  },
  {
   "cell_type": "code",
   "execution_count": 41,
   "metadata": {},
   "outputs": [
    {
     "name": "stdout",
     "output_type": "stream",
     "text": [
      "starting at x: [2. 2.] loss: 2.236068\n",
      "step 0 x: [2.1788855 2.357771 ] loss: 1.8360679\n",
      "step 1 x: [2.357771  2.7155418] loss: 1.4360678\n",
      "step 2 x: [2.5366564 3.0733128] loss: 1.0360678\n",
      "step 3 x: [2.7155418 3.4310837] loss: 0.63606775\n",
      "step 4 x: [2.8944273 3.7888546] loss: 0.23606774\n",
      "step 5 x: [3.0733128 4.1466255] loss: 0.16393232\n",
      "step 6 x: [2.8944273 3.7888546] loss: 0.23606774\n",
      "step 7 x: [3.0733128 4.1466255] loss: 0.16393232\n",
      "step 8 x: [2.8944273 3.7888546] loss: 0.23606774\n",
      "step 9 x: [3.0733128 4.1466255] loss: 0.16393232\n",
      "step 10 x: [2.8944273 3.7888546] loss: 0.23606774\n",
      "step 11 x: [3.0733128 4.1466255] loss: 0.16393232\n",
      "step 12 x: [2.8944273 3.7888546] loss: 0.23606774\n",
      "step 13 x: [3.0733128 4.1466255] loss: 0.16393232\n",
      "step 14 x: [2.8944273 3.7888546] loss: 0.23606774\n",
      "step 15 x: [3.0733128 4.1466255] loss: 0.16393232\n",
      "step 16 x: [2.8944273 3.7888546] loss: 0.23606774\n",
      "step 17 x: [3.0733128 4.1466255] loss: 0.16393232\n",
      "step 18 x: [2.8944273 3.7888546] loss: 0.23606774\n",
      "step 19 x: [3.0733128 4.1466255] loss: 0.16393232\n"
     ]
    }
   ],
   "source": [
    "import tensorflow as tf\n",
    "\n",
    "w = tf.Variable(0, name='w', dtype=tf.float32)\n",
    "b = tf.Variable(0, name='b', dtype=tf.float32)\n",
    "error=[1,1]*x-[3,4]\n",
    "loss = tf.norm(error,name=\"loss\")\n",
    "\n",
    "train = tf.train.GradientDescentOptimizer(learning_rate=0.4).minimize(loss)\n",
    "\n",
    "init = tf.initialize_all_variables()\n",
    "with tf.Session() as session:\n",
    "    session.run(init)\n",
    "    print(\"starting at\", \"x:\", session.run(x), \"loss:\", session.run(loss))\n",
    "    \n",
    "    for step in range(20):  \n",
    "      session.run(train)\n",
    "      print(\"step\", step, \"x:\", session.run(x), \"loss:\", session.run(loss))\n"
   ]
  },
  {
   "cell_type": "code",
   "execution_count": null,
   "metadata": {},
   "outputs": [],
   "source": []
  }
 ],
 "metadata": {
  "kernelspec": {
   "display_name": "Python 3",
   "language": "python",
   "name": "python3"
  },
  "language_info": {
   "codemirror_mode": {
    "name": "ipython",
    "version": 3
   },
   "file_extension": ".py",
   "mimetype": "text/x-python",
   "name": "python",
   "nbconvert_exporter": "python",
   "pygments_lexer": "ipython3",
   "version": "3.6.5"
  }
 },
 "nbformat": 4,
 "nbformat_minor": 2
}
